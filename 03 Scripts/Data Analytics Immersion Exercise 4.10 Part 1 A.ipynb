{
 "cells": [
  {
   "cell_type": "markdown",
   "id": "a57fe9fa-553a-47f4-aae4-ecf5efc565a8",
   "metadata": {},
   "source": [
    "Data Analytics Immersion Exercise 4.10 Part 1 A\n",
    "\n",
    "Creating Region variable\n",
    "\n",
    "Comparing spending_flag by region\n",
    "\n",
    "Removing low-activity customers from data set\n",
    "\n",
    "Creating age group variable\n",
    "\n",
    "Creating bar chart of age group distribution\n",
    "\n",
    "Creating income variable\n",
    "\n",
    "Creating bar chart of income distribution\n",
    "\n",
    "Creating department groups\n",
    "\n",
    "Merging department dataframe into main dataframe\n",
    "\n",
    "Creating provider status variable\n",
    "\n",
    "Converting datatypes in dataframe to conserve memory"
   ]
  },
  {
   "cell_type": "code",
   "execution_count": 1,
   "id": "2717aa64-98ec-4520-99f3-aa0fe5cc5266",
   "metadata": {},
   "outputs": [],
   "source": [
    "#Importing libraries\n",
    "\n",
    "import pandas as pd\n",
    "import numpy as np\n",
    "import os\n",
    "import matplotlib.pyplot as plt\n",
    "import matplotlib.ticker as mticker\n",
    "import seaborn as sns\n",
    "import scipy"
   ]
  },
  {
   "cell_type": "code",
   "execution_count": 2,
   "id": "4e82d845-c7fb-4f97-927f-6840cb324fd9",
   "metadata": {},
   "outputs": [],
   "source": [
    "#Setting path\n",
    "\n",
    "path = r\"C:\\Users\\luiss\\OneDrive\\Career Foundry\\Instacart Basket Analysis\""
   ]
  },
  {
   "cell_type": "code",
   "execution_count": 3,
   "id": "36944549-8db4-4061-917e-755b18dabd40",
   "metadata": {},
   "outputs": [],
   "source": [
    "#Importing Data\n",
    "\n",
    "df_tot = pd.read_pickle(os.path.join(path, '02 Data', 'Prepared Data', 'total.pkl'))"
   ]
  },
  {
   "cell_type": "code",
   "execution_count": 4,
   "id": "eaddc452-110b-4348-ae12-2a3f3a703f43",
   "metadata": {},
   "outputs": [
    {
     "data": {
      "text/plain": [
       "(32406041, 32)"
      ]
     },
     "execution_count": 4,
     "metadata": {},
     "output_type": "execute_result"
    }
   ],
   "source": [
    "#Checking data\n",
    "\n",
    "df_tot.shape"
   ]
  },
  {
   "cell_type": "code",
   "execution_count": 5,
   "id": "5ff1f511-b273-40d5-b1a8-4bb2b0937ae9",
   "metadata": {},
   "outputs": [
    {
     "data": {
      "text/html": [
       "<div>\n",
       "<style scoped>\n",
       "    .dataframe tbody tr th:only-of-type {\n",
       "        vertical-align: middle;\n",
       "    }\n",
       "\n",
       "    .dataframe tbody tr th {\n",
       "        vertical-align: top;\n",
       "    }\n",
       "\n",
       "    .dataframe thead th {\n",
       "        text-align: right;\n",
       "    }\n",
       "</style>\n",
       "<table border=\"1\" class=\"dataframe\">\n",
       "  <thead>\n",
       "    <tr style=\"text-align: right;\">\n",
       "      <th></th>\n",
       "      <th>order_id</th>\n",
       "      <th>user_id</th>\n",
       "      <th>order_number</th>\n",
       "      <th>orders_day_of_week</th>\n",
       "      <th>order_hour_of_day</th>\n",
       "      <th>days_since_prior_order</th>\n",
       "      <th>product_id</th>\n",
       "      <th>add_to_cart_order</th>\n",
       "      <th>reordered</th>\n",
       "      <th>product_name</th>\n",
       "      <th>...</th>\n",
       "      <th>First Name</th>\n",
       "      <th>Surname</th>\n",
       "      <th>Gender</th>\n",
       "      <th>STATE</th>\n",
       "      <th>Age</th>\n",
       "      <th>date_joined</th>\n",
       "      <th>dependants</th>\n",
       "      <th>fam_status</th>\n",
       "      <th>income</th>\n",
       "      <th>_merge</th>\n",
       "    </tr>\n",
       "  </thead>\n",
       "  <tbody>\n",
       "    <tr>\n",
       "      <th>0</th>\n",
       "      <td>2539329</td>\n",
       "      <td>1</td>\n",
       "      <td>1</td>\n",
       "      <td>2</td>\n",
       "      <td>8</td>\n",
       "      <td>NaN</td>\n",
       "      <td>196</td>\n",
       "      <td>1</td>\n",
       "      <td>0</td>\n",
       "      <td>Soda</td>\n",
       "      <td>...</td>\n",
       "      <td>Linda</td>\n",
       "      <td>Nguyen</td>\n",
       "      <td>Female</td>\n",
       "      <td>Alabama</td>\n",
       "      <td>31</td>\n",
       "      <td>2/17/2019</td>\n",
       "      <td>3</td>\n",
       "      <td>married</td>\n",
       "      <td>40423</td>\n",
       "      <td>both</td>\n",
       "    </tr>\n",
       "    <tr>\n",
       "      <th>1</th>\n",
       "      <td>2539329</td>\n",
       "      <td>1</td>\n",
       "      <td>1</td>\n",
       "      <td>2</td>\n",
       "      <td>8</td>\n",
       "      <td>NaN</td>\n",
       "      <td>14084</td>\n",
       "      <td>2</td>\n",
       "      <td>0</td>\n",
       "      <td>Organic Unsweetened Vanilla Almond Milk</td>\n",
       "      <td>...</td>\n",
       "      <td>Linda</td>\n",
       "      <td>Nguyen</td>\n",
       "      <td>Female</td>\n",
       "      <td>Alabama</td>\n",
       "      <td>31</td>\n",
       "      <td>2/17/2019</td>\n",
       "      <td>3</td>\n",
       "      <td>married</td>\n",
       "      <td>40423</td>\n",
       "      <td>both</td>\n",
       "    </tr>\n",
       "    <tr>\n",
       "      <th>2</th>\n",
       "      <td>2539329</td>\n",
       "      <td>1</td>\n",
       "      <td>1</td>\n",
       "      <td>2</td>\n",
       "      <td>8</td>\n",
       "      <td>NaN</td>\n",
       "      <td>12427</td>\n",
       "      <td>3</td>\n",
       "      <td>0</td>\n",
       "      <td>Original Beef Jerky</td>\n",
       "      <td>...</td>\n",
       "      <td>Linda</td>\n",
       "      <td>Nguyen</td>\n",
       "      <td>Female</td>\n",
       "      <td>Alabama</td>\n",
       "      <td>31</td>\n",
       "      <td>2/17/2019</td>\n",
       "      <td>3</td>\n",
       "      <td>married</td>\n",
       "      <td>40423</td>\n",
       "      <td>both</td>\n",
       "    </tr>\n",
       "    <tr>\n",
       "      <th>3</th>\n",
       "      <td>2539329</td>\n",
       "      <td>1</td>\n",
       "      <td>1</td>\n",
       "      <td>2</td>\n",
       "      <td>8</td>\n",
       "      <td>NaN</td>\n",
       "      <td>26088</td>\n",
       "      <td>4</td>\n",
       "      <td>0</td>\n",
       "      <td>Aged White Cheddar Popcorn</td>\n",
       "      <td>...</td>\n",
       "      <td>Linda</td>\n",
       "      <td>Nguyen</td>\n",
       "      <td>Female</td>\n",
       "      <td>Alabama</td>\n",
       "      <td>31</td>\n",
       "      <td>2/17/2019</td>\n",
       "      <td>3</td>\n",
       "      <td>married</td>\n",
       "      <td>40423</td>\n",
       "      <td>both</td>\n",
       "    </tr>\n",
       "    <tr>\n",
       "      <th>4</th>\n",
       "      <td>2539329</td>\n",
       "      <td>1</td>\n",
       "      <td>1</td>\n",
       "      <td>2</td>\n",
       "      <td>8</td>\n",
       "      <td>NaN</td>\n",
       "      <td>26405</td>\n",
       "      <td>5</td>\n",
       "      <td>0</td>\n",
       "      <td>XL Pick-A-Size Paper Towel Rolls</td>\n",
       "      <td>...</td>\n",
       "      <td>Linda</td>\n",
       "      <td>Nguyen</td>\n",
       "      <td>Female</td>\n",
       "      <td>Alabama</td>\n",
       "      <td>31</td>\n",
       "      <td>2/17/2019</td>\n",
       "      <td>3</td>\n",
       "      <td>married</td>\n",
       "      <td>40423</td>\n",
       "      <td>both</td>\n",
       "    </tr>\n",
       "  </tbody>\n",
       "</table>\n",
       "<p>5 rows × 32 columns</p>\n",
       "</div>"
      ],
      "text/plain": [
       "  order_id user_id  order_number  orders_day_of_week  order_hour_of_day  \\\n",
       "0  2539329       1             1                   2                  8   \n",
       "1  2539329       1             1                   2                  8   \n",
       "2  2539329       1             1                   2                  8   \n",
       "3  2539329       1             1                   2                  8   \n",
       "4  2539329       1             1                   2                  8   \n",
       "\n",
       "   days_since_prior_order  product_id  add_to_cart_order  reordered  \\\n",
       "0                     NaN         196                  1          0   \n",
       "1                     NaN       14084                  2          0   \n",
       "2                     NaN       12427                  3          0   \n",
       "3                     NaN       26088                  4          0   \n",
       "4                     NaN       26405                  5          0   \n",
       "\n",
       "                              product_name  ...  First Name  Surname  Gender  \\\n",
       "0                                     Soda  ...       Linda   Nguyen  Female   \n",
       "1  Organic Unsweetened Vanilla Almond Milk  ...       Linda   Nguyen  Female   \n",
       "2                      Original Beef Jerky  ...       Linda   Nguyen  Female   \n",
       "3               Aged White Cheddar Popcorn  ...       Linda   Nguyen  Female   \n",
       "4         XL Pick-A-Size Paper Towel Rolls  ...       Linda   Nguyen  Female   \n",
       "\n",
       "     STATE Age date_joined  dependants fam_status  income _merge  \n",
       "0  Alabama  31   2/17/2019           3    married   40423   both  \n",
       "1  Alabama  31   2/17/2019           3    married   40423   both  \n",
       "2  Alabama  31   2/17/2019           3    married   40423   both  \n",
       "3  Alabama  31   2/17/2019           3    married   40423   both  \n",
       "4  Alabama  31   2/17/2019           3    married   40423   both  \n",
       "\n",
       "[5 rows x 32 columns]"
      ]
     },
     "execution_count": 5,
     "metadata": {},
     "output_type": "execute_result"
    }
   ],
   "source": [
    "df_tot.head()"
   ]
  },
  {
   "cell_type": "markdown",
   "id": "449bb0c6-2f8f-4823-ad6c-a1d8c3dac823",
   "metadata": {},
   "source": [
    "Consider any security implications that might exist for this new data. You’ll need to address any PII data in the data before continuing your analysis."
   ]
  },
  {
   "cell_type": "markdown",
   "id": "fba9e969-d2e0-4400-83ef-5c5bef0e5bb8",
   "metadata": {},
   "source": [
    "The names would be considered PII, especially with the other descriptive columns (gender, state, age, dependants, and fam_status).  Given that no real marketing information can be accurately taken from someone's name, it seems best to wipe out those columns and preserve the other descriptive columns."
   ]
  },
  {
   "cell_type": "code",
   "execution_count": 6,
   "id": "25316900-e05b-4882-8e14-5609b1dce459",
   "metadata": {},
   "outputs": [],
   "source": [
    "#Dropping name columns\n",
    "\n",
    "df_totf = df_tot.drop(columns = ['First Name', 'Surname'])"
   ]
  },
  {
   "cell_type": "code",
   "execution_count": 7,
   "id": "f1d6d9e9-7406-49c9-bb95-cf246bc9401e",
   "metadata": {},
   "outputs": [
    {
     "data": {
      "text/plain": [
       "(32406041, 30)"
      ]
     },
     "execution_count": 7,
     "metadata": {},
     "output_type": "execute_result"
    }
   ],
   "source": [
    "#Data checks\n",
    "\n",
    "df_totf.shape"
   ]
  },
  {
   "cell_type": "code",
   "execution_count": 8,
   "id": "7d1b6fb2-d068-430c-99fd-596f0007ff0b",
   "metadata": {},
   "outputs": [
    {
     "data": {
      "text/html": [
       "<div>\n",
       "<style scoped>\n",
       "    .dataframe tbody tr th:only-of-type {\n",
       "        vertical-align: middle;\n",
       "    }\n",
       "\n",
       "    .dataframe tbody tr th {\n",
       "        vertical-align: top;\n",
       "    }\n",
       "\n",
       "    .dataframe thead th {\n",
       "        text-align: right;\n",
       "    }\n",
       "</style>\n",
       "<table border=\"1\" class=\"dataframe\">\n",
       "  <thead>\n",
       "    <tr style=\"text-align: right;\">\n",
       "      <th></th>\n",
       "      <th>order_id</th>\n",
       "      <th>user_id</th>\n",
       "      <th>order_number</th>\n",
       "      <th>orders_day_of_week</th>\n",
       "      <th>order_hour_of_day</th>\n",
       "      <th>days_since_prior_order</th>\n",
       "      <th>product_id</th>\n",
       "      <th>add_to_cart_order</th>\n",
       "      <th>reordered</th>\n",
       "      <th>product_name</th>\n",
       "      <th>...</th>\n",
       "      <th>median_days_since_prior_order</th>\n",
       "      <th>frequency_flag</th>\n",
       "      <th>Gender</th>\n",
       "      <th>STATE</th>\n",
       "      <th>Age</th>\n",
       "      <th>date_joined</th>\n",
       "      <th>dependants</th>\n",
       "      <th>fam_status</th>\n",
       "      <th>income</th>\n",
       "      <th>_merge</th>\n",
       "    </tr>\n",
       "  </thead>\n",
       "  <tbody>\n",
       "    <tr>\n",
       "      <th>0</th>\n",
       "      <td>2539329</td>\n",
       "      <td>1</td>\n",
       "      <td>1</td>\n",
       "      <td>2</td>\n",
       "      <td>8</td>\n",
       "      <td>NaN</td>\n",
       "      <td>196</td>\n",
       "      <td>1</td>\n",
       "      <td>0</td>\n",
       "      <td>Soda</td>\n",
       "      <td>...</td>\n",
       "      <td>20.5</td>\n",
       "      <td>Non-frequent customer</td>\n",
       "      <td>Female</td>\n",
       "      <td>Alabama</td>\n",
       "      <td>31</td>\n",
       "      <td>2/17/2019</td>\n",
       "      <td>3</td>\n",
       "      <td>married</td>\n",
       "      <td>40423</td>\n",
       "      <td>both</td>\n",
       "    </tr>\n",
       "    <tr>\n",
       "      <th>1</th>\n",
       "      <td>2539329</td>\n",
       "      <td>1</td>\n",
       "      <td>1</td>\n",
       "      <td>2</td>\n",
       "      <td>8</td>\n",
       "      <td>NaN</td>\n",
       "      <td>14084</td>\n",
       "      <td>2</td>\n",
       "      <td>0</td>\n",
       "      <td>Organic Unsweetened Vanilla Almond Milk</td>\n",
       "      <td>...</td>\n",
       "      <td>20.5</td>\n",
       "      <td>Non-frequent customer</td>\n",
       "      <td>Female</td>\n",
       "      <td>Alabama</td>\n",
       "      <td>31</td>\n",
       "      <td>2/17/2019</td>\n",
       "      <td>3</td>\n",
       "      <td>married</td>\n",
       "      <td>40423</td>\n",
       "      <td>both</td>\n",
       "    </tr>\n",
       "    <tr>\n",
       "      <th>2</th>\n",
       "      <td>2539329</td>\n",
       "      <td>1</td>\n",
       "      <td>1</td>\n",
       "      <td>2</td>\n",
       "      <td>8</td>\n",
       "      <td>NaN</td>\n",
       "      <td>12427</td>\n",
       "      <td>3</td>\n",
       "      <td>0</td>\n",
       "      <td>Original Beef Jerky</td>\n",
       "      <td>...</td>\n",
       "      <td>20.5</td>\n",
       "      <td>Non-frequent customer</td>\n",
       "      <td>Female</td>\n",
       "      <td>Alabama</td>\n",
       "      <td>31</td>\n",
       "      <td>2/17/2019</td>\n",
       "      <td>3</td>\n",
       "      <td>married</td>\n",
       "      <td>40423</td>\n",
       "      <td>both</td>\n",
       "    </tr>\n",
       "    <tr>\n",
       "      <th>3</th>\n",
       "      <td>2539329</td>\n",
       "      <td>1</td>\n",
       "      <td>1</td>\n",
       "      <td>2</td>\n",
       "      <td>8</td>\n",
       "      <td>NaN</td>\n",
       "      <td>26088</td>\n",
       "      <td>4</td>\n",
       "      <td>0</td>\n",
       "      <td>Aged White Cheddar Popcorn</td>\n",
       "      <td>...</td>\n",
       "      <td>20.5</td>\n",
       "      <td>Non-frequent customer</td>\n",
       "      <td>Female</td>\n",
       "      <td>Alabama</td>\n",
       "      <td>31</td>\n",
       "      <td>2/17/2019</td>\n",
       "      <td>3</td>\n",
       "      <td>married</td>\n",
       "      <td>40423</td>\n",
       "      <td>both</td>\n",
       "    </tr>\n",
       "    <tr>\n",
       "      <th>4</th>\n",
       "      <td>2539329</td>\n",
       "      <td>1</td>\n",
       "      <td>1</td>\n",
       "      <td>2</td>\n",
       "      <td>8</td>\n",
       "      <td>NaN</td>\n",
       "      <td>26405</td>\n",
       "      <td>5</td>\n",
       "      <td>0</td>\n",
       "      <td>XL Pick-A-Size Paper Towel Rolls</td>\n",
       "      <td>...</td>\n",
       "      <td>20.5</td>\n",
       "      <td>Non-frequent customer</td>\n",
       "      <td>Female</td>\n",
       "      <td>Alabama</td>\n",
       "      <td>31</td>\n",
       "      <td>2/17/2019</td>\n",
       "      <td>3</td>\n",
       "      <td>married</td>\n",
       "      <td>40423</td>\n",
       "      <td>both</td>\n",
       "    </tr>\n",
       "  </tbody>\n",
       "</table>\n",
       "<p>5 rows × 30 columns</p>\n",
       "</div>"
      ],
      "text/plain": [
       "  order_id user_id  order_number  orders_day_of_week  order_hour_of_day  \\\n",
       "0  2539329       1             1                   2                  8   \n",
       "1  2539329       1             1                   2                  8   \n",
       "2  2539329       1             1                   2                  8   \n",
       "3  2539329       1             1                   2                  8   \n",
       "4  2539329       1             1                   2                  8   \n",
       "\n",
       "   days_since_prior_order  product_id  add_to_cart_order  reordered  \\\n",
       "0                     NaN         196                  1          0   \n",
       "1                     NaN       14084                  2          0   \n",
       "2                     NaN       12427                  3          0   \n",
       "3                     NaN       26088                  4          0   \n",
       "4                     NaN       26405                  5          0   \n",
       "\n",
       "                              product_name  ...  \\\n",
       "0                                     Soda  ...   \n",
       "1  Organic Unsweetened Vanilla Almond Milk  ...   \n",
       "2                      Original Beef Jerky  ...   \n",
       "3               Aged White Cheddar Popcorn  ...   \n",
       "4         XL Pick-A-Size Paper Towel Rolls  ...   \n",
       "\n",
       "   median_days_since_prior_order         frequency_flag  Gender    STATE Age  \\\n",
       "0                           20.5  Non-frequent customer  Female  Alabama  31   \n",
       "1                           20.5  Non-frequent customer  Female  Alabama  31   \n",
       "2                           20.5  Non-frequent customer  Female  Alabama  31   \n",
       "3                           20.5  Non-frequent customer  Female  Alabama  31   \n",
       "4                           20.5  Non-frequent customer  Female  Alabama  31   \n",
       "\n",
       "  date_joined  dependants fam_status  income _merge  \n",
       "0   2/17/2019           3    married   40423   both  \n",
       "1   2/17/2019           3    married   40423   both  \n",
       "2   2/17/2019           3    married   40423   both  \n",
       "3   2/17/2019           3    married   40423   both  \n",
       "4   2/17/2019           3    married   40423   both  \n",
       "\n",
       "[5 rows x 30 columns]"
      ]
     },
     "execution_count": 8,
     "metadata": {},
     "output_type": "execute_result"
    }
   ],
   "source": [
    "df_totf.head()"
   ]
  },
  {
   "cell_type": "markdown",
   "id": "46c295fe-ee97-4504-be65-1620f03bcdac",
   "metadata": {},
   "source": [
    "The Instacart officers are interested in comparing customer behavior in different geographic areas. Create a regional segmentation of the data. You’ll need to create a “Region” column based on the “State” column from your customers data set.\n",
    "Use the region information in this Wikipedia article to create your column (you only need to create regions, not divisions).\n",
    "Determine whether there’s a difference in spending habits between the different U.S. regions. (Hint: You can do this by crossing the variable you just created with the spending flag.)"
   ]
  },
  {
   "cell_type": "code",
   "execution_count": 9,
   "id": "2c1d1dd7-e5f0-46fd-a950-01eb1fcb4113",
   "metadata": {},
   "outputs": [
    {
     "data": {
      "text/plain": [
       "STATE\n",
       "Pennsylvania            667094\n",
       "California              659828\n",
       "Rhode Island            656935\n",
       "Georgia                 656414\n",
       "New Mexico              654499\n",
       "Arizona                 654005\n",
       "North Carolina          651928\n",
       "Oklahoma                651760\n",
       "Alaska                  648519\n",
       "Minnesota               647851\n",
       "Massachusetts           646378\n",
       "Wyoming                 644283\n",
       "Virginia                641432\n",
       "Missouri                640761\n",
       "Texas                   640432\n",
       "Colorado                639293\n",
       "Maine                   638593\n",
       "North Dakota            638507\n",
       "Alabama                 638041\n",
       "Kansas                  637570\n",
       "Louisiana               637506\n",
       "Delaware                637049\n",
       "South Carolina          636768\n",
       "Oregon                  636442\n",
       "Nevada                  636163\n",
       "Arkansas                636158\n",
       "New York                636003\n",
       "Montana                 635280\n",
       "South Dakota            633786\n",
       "Illinois                633059\n",
       "Hawaii                  632922\n",
       "Washington              632877\n",
       "Mississippi             632697\n",
       "Kentucky                632509\n",
       "Michigan                630956\n",
       "Florida                 629039\n",
       "Ohio                    628339\n",
       "Wisconsin               628137\n",
       "New Jersey              627707\n",
       "Indiana                 627290\n",
       "Maryland                626603\n",
       "Nebraska                625828\n",
       "Iowa                    625501\n",
       "Connecticut             623055\n",
       "Tennessee               617906\n",
       "New Hampshire           615424\n",
       "District of Columbia    613714\n",
       "West Virginia           612344\n",
       "Utah                    611965\n",
       "Vermont                 611750\n",
       "Idaho                   607141\n",
       "Name: count, dtype: int64"
      ]
     },
     "execution_count": 9,
     "metadata": {},
     "output_type": "execute_result"
    }
   ],
   "source": [
    "#Confirming states column has no duplicates/mispellings\n",
    "\n",
    "df_totf['STATE'].value_counts(dropna = False)"
   ]
  },
  {
   "cell_type": "code",
   "execution_count": 8,
   "id": "533999ac-37ee-4b5f-8ced-f4515672bbbc",
   "metadata": {},
   "outputs": [],
   "source": [
    "#Assigning Northeast region\n",
    "\n",
    "df_totf.loc[df_totf['STATE'].isin(['Maine', 'New Hampshire', 'Vermont', 'Massachusetts', 'Rhode Island', \n",
    "                                   'Connecticut', 'New York', 'Pennsylvania', 'New Jersey']), 'Region'] = 'Northeast'"
   ]
  },
  {
   "cell_type": "code",
   "execution_count": 9,
   "id": "998fb50a-0dd0-4fa9-9fe8-7eaa1d65906b",
   "metadata": {},
   "outputs": [],
   "source": [
    "#Assigning Midwest region\n",
    "\n",
    "df_totf.loc[df_totf['STATE'].isin(['Wisconsin', 'Michigan', 'Illinois', 'Indiana', 'Ohio', 'North Dakota', 'South Dakota', \n",
    "                                   'Nebraska', 'Kansas', 'Minnesota', 'Iowa', 'Missouri']), 'Region'] = 'Midwest'"
   ]
  },
  {
   "cell_type": "code",
   "execution_count": 10,
   "id": "c2a70809-e00f-4d3b-a1c3-55208136efb8",
   "metadata": {},
   "outputs": [],
   "source": [
    "#Assigning South region\n",
    "\n",
    "df_totf.loc[df_totf['STATE'].isin(['Delaware', 'Maryland', 'District of Columbia', 'Virginia', 'West Virginia', 'North Carolina',\n",
    "                                   'South Carolina', 'Georgia', 'Florida', 'Kentucky', 'Tennessee', 'Mississippi', 'Alabama',\n",
    "                                  'Oklahoma', 'Texas', 'Arkansas', 'Louisiana']), 'Region'] = 'South'"
   ]
  },
  {
   "cell_type": "code",
   "execution_count": 11,
   "id": "ef2714c1-512a-41f8-a88c-ccf6b3184256",
   "metadata": {},
   "outputs": [],
   "source": [
    "#Assigning West region\n",
    "\n",
    "df_totf.loc[df_totf['STATE'].isin(['Idaho', 'Montana', 'Wyoming', 'Nevada', 'Utah', 'Colorado', 'Arizona', 'New Mexico',\n",
    "                                   'Alaska', 'Washington', 'Oregon', 'California', 'Hawaii']), 'Region'] = 'West'"
   ]
  },
  {
   "cell_type": "code",
   "execution_count": 12,
   "id": "3be63126-f38c-44a9-a7e8-de31b7c7bde4",
   "metadata": {},
   "outputs": [
    {
     "data": {
      "text/plain": [
       "Region\n",
       "South        10792300\n",
       "West          8293217\n",
       "Midwest       7597585\n",
       "Northeast     5722939\n",
       "Name: count, dtype: int64"
      ]
     },
     "execution_count": 12,
     "metadata": {},
     "output_type": "execute_result"
    }
   ],
   "source": [
    "#Checking data\n",
    "\n",
    "df_totf['Region'].value_counts(dropna = False)"
   ]
  },
  {
   "cell_type": "markdown",
   "id": "0f0a2002-f7f8-472c-995c-27bd5d324cbb",
   "metadata": {},
   "source": [
    "Determining spending habits (region v spending flag)"
   ]
  },
  {
   "cell_type": "code",
   "execution_count": 15,
   "id": "52bf16c5-5ed0-42ba-b234-de8ae3284d1a",
   "metadata": {},
   "outputs": [],
   "source": [
    "#Creating crosstab comparing spending_flags per region\n",
    "\n",
    "crosstabrs = pd.crosstab(df_totf['Region'], df_totf['spending_flag'], dropna = False)"
   ]
  },
  {
   "cell_type": "code",
   "execution_count": 16,
   "id": "09d269ce-3899-4a18-a0af-babe870d6f3e",
   "metadata": {},
   "outputs": [],
   "source": [
    "#Copying crosstabrs to clipboard to examine in excel\n",
    "\n",
    "crosstabrs.to_clipboard()"
   ]
  },
  {
   "cell_type": "code",
   "execution_count": 17,
   "id": "bf862ee2-7122-4560-a1dc-d215344b3e41",
   "metadata": {},
   "outputs": [
    {
     "name": "stdout",
     "output_type": "stream",
     "text": [
      "spending_flag  High spender  Low spender\n",
      "Region                                  \n",
      "Midwest              155979      7441606\n",
      "Northeast            108226      5614713\n",
      "South                209693     10582607\n",
      "West                 160354      8132863\n"
     ]
    }
   ],
   "source": [
    "print(crosstabrs)"
   ]
  },
  {
   "cell_type": "code",
   "execution_count": 18,
   "id": "fceae4cc-8267-4a2f-b24b-4842ca92eaab",
   "metadata": {},
   "outputs": [],
   "source": [
    "#Creating new column to display percentage of high spenders\n",
    "\n",
    "crosstabrs['High spender %'] = crosstabrs['High spender'] / (crosstabrs['High spender'] + crosstabrs['Low spender']) * 100"
   ]
  },
  {
   "cell_type": "code",
   "execution_count": 19,
   "id": "0f85b26d-ff93-49c2-b6af-e68de57e52a2",
   "metadata": {},
   "outputs": [
    {
     "data": {
      "text/html": [
       "<div>\n",
       "<style scoped>\n",
       "    .dataframe tbody tr th:only-of-type {\n",
       "        vertical-align: middle;\n",
       "    }\n",
       "\n",
       "    .dataframe tbody tr th {\n",
       "        vertical-align: top;\n",
       "    }\n",
       "\n",
       "    .dataframe thead th {\n",
       "        text-align: right;\n",
       "    }\n",
       "</style>\n",
       "<table border=\"1\" class=\"dataframe\">\n",
       "  <thead>\n",
       "    <tr style=\"text-align: right;\">\n",
       "      <th>spending_flag</th>\n",
       "      <th>High spender</th>\n",
       "      <th>Low spender</th>\n",
       "      <th>High spender %</th>\n",
       "    </tr>\n",
       "    <tr>\n",
       "      <th>Region</th>\n",
       "      <th></th>\n",
       "      <th></th>\n",
       "      <th></th>\n",
       "    </tr>\n",
       "  </thead>\n",
       "  <tbody>\n",
       "    <tr>\n",
       "      <th>Midwest</th>\n",
       "      <td>155979</td>\n",
       "      <td>7441606</td>\n",
       "      <td>2.053008</td>\n",
       "    </tr>\n",
       "    <tr>\n",
       "      <th>Northeast</th>\n",
       "      <td>108226</td>\n",
       "      <td>5614713</td>\n",
       "      <td>1.891091</td>\n",
       "    </tr>\n",
       "    <tr>\n",
       "      <th>South</th>\n",
       "      <td>209693</td>\n",
       "      <td>10582607</td>\n",
       "      <td>1.942987</td>\n",
       "    </tr>\n",
       "    <tr>\n",
       "      <th>West</th>\n",
       "      <td>160354</td>\n",
       "      <td>8132863</td>\n",
       "      <td>1.933556</td>\n",
       "    </tr>\n",
       "  </tbody>\n",
       "</table>\n",
       "</div>"
      ],
      "text/plain": [
       "spending_flag  High spender  Low spender  High spender %\n",
       "Region                                                  \n",
       "Midwest              155979      7441606        2.053008\n",
       "Northeast            108226      5614713        1.891091\n",
       "South                209693     10582607        1.942987\n",
       "West                 160354      8132863        1.933556"
      ]
     },
     "execution_count": 19,
     "metadata": {},
     "output_type": "execute_result"
    }
   ],
   "source": [
    "crosstabrs"
   ]
  },
  {
   "cell_type": "markdown",
   "id": "163c52ba-9b6d-4c14-8679-c9018a688308",
   "metadata": {},
   "source": [
    "The region with the highest total amount of High spenders is the southern region while the region with the highest percentage of high spenders is the midwestern region"
   ]
  },
  {
   "cell_type": "markdown",
   "id": "06ed9cb6-b180-4d35-9fdf-627de2112ff5",
   "metadata": {},
   "source": [
    "The Instacart CFO isn’t interested in customers who don’t generate much revenue for the app. Create an exclusion flag for low-activity customers (customers with less than 5 orders) and exclude them from the data. Make sure you export this sample."
   ]
  },
  {
   "cell_type": "code",
   "execution_count": 13,
   "id": "314979dc-3bac-4008-b164-55c0d27c7e33",
   "metadata": {},
   "outputs": [],
   "source": [
    "#Creating exclusion flag of low activity for max_orders <5\n",
    "\n",
    "df_totf.loc[df_totf['max_order'] < 5, 'Activity_flag'] = 'Low'"
   ]
  },
  {
   "cell_type": "code",
   "execution_count": 14,
   "id": "f8c6302a-3e24-49d0-bde1-8014fc5c62be",
   "metadata": {},
   "outputs": [],
   "source": [
    "df_totf.loc[df_totf['max_order'] >= 5, 'Activity_flag'] = 'Active'"
   ]
  },
  {
   "cell_type": "code",
   "execution_count": 15,
   "id": "62d01c06-1ea5-4b96-a0a2-35ddbd740633",
   "metadata": {},
   "outputs": [
    {
     "data": {
      "text/plain": [
       "Activity_flag\n",
       "Active    30965686\n",
       "Low        1440355\n",
       "Name: count, dtype: int64"
      ]
     },
     "execution_count": 15,
     "metadata": {},
     "output_type": "execute_result"
    }
   ],
   "source": [
    "df_totf['Activity_flag'].value_counts(dropna = False)"
   ]
  },
  {
   "cell_type": "code",
   "execution_count": 16,
   "id": "afd0962a-d62e-42a0-8199-a0aa3307ec45",
   "metadata": {},
   "outputs": [],
   "source": [
    "#Creating subset for CFO request\n",
    "\n",
    "df_CFO = df_totf[df_totf['Activity_flag'] == 'Active']"
   ]
  },
  {
   "cell_type": "code",
   "execution_count": 17,
   "id": "169ae2d9-b59f-4d94-9fdd-f261532b46d1",
   "metadata": {},
   "outputs": [
    {
     "data": {
      "text/plain": [
       "Activity_flag\n",
       "Active    30965686\n",
       "Name: count, dtype: int64"
      ]
     },
     "execution_count": 17,
     "metadata": {},
     "output_type": "execute_result"
    }
   ],
   "source": [
    "df_CFO['Activity_flag'].value_counts(dropna = False)"
   ]
  },
  {
   "cell_type": "code",
   "execution_count": 25,
   "id": "f891edaf-ef40-4c8b-b4fe-4069b1bb8200",
   "metadata": {},
   "outputs": [],
   "source": [
    "df_CFO.to_pickle(os.path.join(path, '02 Data', 'Prepared Data', 'CFO activity request.pkl'))"
   ]
  },
  {
   "cell_type": "code",
   "execution_count": 18,
   "id": "a7ec5a2f-16f8-471f-a692-f1fc23e903b6",
   "metadata": {},
   "outputs": [],
   "source": [
    "#Setting working dataframe to dataframe requested by CFO\n",
    "\n",
    "df = df_CFO"
   ]
  },
  {
   "cell_type": "code",
   "execution_count": 19,
   "id": "e5d81e2b-a78c-4fa9-ba58-f5d3d6b8efd4",
   "metadata": {},
   "outputs": [
    {
     "data": {
      "text/plain": [
       "Activity_flag\n",
       "Active    30965686\n",
       "Name: count, dtype: int64"
      ]
     },
     "execution_count": 19,
     "metadata": {},
     "output_type": "execute_result"
    }
   ],
   "source": [
    "df['Activity_flag'].value_counts(dropna = False)"
   ]
  },
  {
   "cell_type": "markdown",
   "id": "8970e819-586e-4927-8d7e-df8f5df5d94d",
   "metadata": {},
   "source": [
    "The marketing and business strategy units at Instacart want to create more-relevant marketing strategies for different products and are, thus, curious about customer profiling in their database. Create a profiling variable based on age, income, certain goods in the “department_id” column, and number of dependents. You might also use the “orders_day_of_week” and “order_hour_of_day” columns if you can think of a way they would impact customer profiles. (Hint: As an example, try thinking of what characteristics would lead you to the profile “Single adult” or “Young parent.”)"
   ]
  },
  {
   "cell_type": "code",
   "execution_count": 28,
   "id": "729b6887-c818-495c-8673-f0a04e1e56e5",
   "metadata": {},
   "outputs": [
    {
     "data": {
      "text/plain": [
       "count    3.096569e+07\n",
       "mean     4.946800e+01\n",
       "std      1.848526e+01\n",
       "min      1.800000e+01\n",
       "25%      3.300000e+01\n",
       "50%      4.900000e+01\n",
       "75%      6.500000e+01\n",
       "max      8.100000e+01\n",
       "Name: Age, dtype: float64"
      ]
     },
     "execution_count": 28,
     "metadata": {},
     "output_type": "execute_result"
    }
   ],
   "source": [
    "#Gathering data on age for min, max\n",
    "\n",
    "df['Age'].describe()"
   ]
  },
  {
   "cell_type": "code",
   "execution_count": 24,
   "id": "90988882-dbe4-4dfb-95ff-92fd46c72dcf",
   "metadata": {},
   "outputs": [],
   "source": [
    "#Creating age variables\n",
    "\n",
    "df.loc[df['Age'] < 30, 'Age group'] = 'Young adult'"
   ]
  },
  {
   "cell_type": "code",
   "execution_count": 21,
   "id": "911117f2-0d4e-4223-8ebd-4a69c51209cb",
   "metadata": {},
   "outputs": [],
   "source": [
    "df.loc[(df['Age'] >= 30) & (df['Age'] < 45), 'Age group'] = 'Adult'"
   ]
  },
  {
   "cell_type": "code",
   "execution_count": 22,
   "id": "97de4cba-1036-4616-a784-6812f8884f52",
   "metadata": {},
   "outputs": [],
   "source": [
    "df.loc[(df['Age'] >= 45) & (df['Age'] < 65), 'Age group'] = 'Middle aged'"
   ]
  },
  {
   "cell_type": "code",
   "execution_count": 23,
   "id": "4fa4bec5-28c7-4770-bbcf-dc54f437c71f",
   "metadata": {},
   "outputs": [],
   "source": [
    "df.loc[df['Age'] >= 65, 'Age group'] = 'Elderly'"
   ]
  },
  {
   "cell_type": "code",
   "execution_count": 25,
   "id": "703e2790-0771-41bd-be23-51ab8b17b8ca",
   "metadata": {},
   "outputs": [
    {
     "data": {
      "text/plain": [
       "Age group\n",
       "Middle aged    9690405\n",
       "Elderly        8195806\n",
       "Adult          7261624\n",
       "Young adult    5817851\n",
       "Name: count, dtype: int64"
      ]
     },
     "execution_count": 25,
     "metadata": {},
     "output_type": "execute_result"
    }
   ],
   "source": [
    "df['Age group'].value_counts(dropna = False)"
   ]
  },
  {
   "cell_type": "code",
   "execution_count": 28,
   "id": "8a406c09-e52e-471b-b695-b0ea082b1421",
   "metadata": {},
   "outputs": [
    {
     "data": {
      "image/png": "[encoded data removed]",
      "text/plain": [
       "<Figure size 640x480 with 1 Axes>"
      ]
     },
     "metadata": {},
     "output_type": "display_data"
    }
   ],
   "source": [
    "#Creating bar chart of age groups\n",
    "\n",
    "Age_bar = df['Age group'].value_counts().sort_index().plot.bar()\n",
    "\n",
    "plt.title('Age Groups Distribution')\n",
    "plt.xlabel('Age Groups')\n",
    "plt.ylabel('Amount of Customers')\n",
    "plt.xticks(rotation = 45)\n",
    "plt.tight_layout(pad=3)\n",
    "\n",
    "#Remvoing scientific notation\n",
    "Age_bar.yaxis.set_major_formatter(mticker.StrMethodFormatter('{x:,.0f}'))\n",
    "\n",
    "#Setting index by age group ascending\n",
    "age_order = ['Young adult', 'Adult', 'Middle aged', 'Elderly']\n",
    "df['Age group'] = pd.Categorical(df['Age group'], categories=age_order, ordered=True)\n",
    "df = df.sort_values('Age group')\n",
    "\n",
    "#Exporting chart\n",
    "Age_bar.figure.savefig(os.path.join(path, '04 Analysis', 'Visualizations', 'Age Group Bar.png'))"
   ]
  },
  {
   "cell_type": "code",
   "execution_count": 29,
   "id": "31807e39-c948-4d61-9113-494abccf460c",
   "metadata": {},
   "outputs": [
    {
     "data": {
      "text/plain": [
       "count    3.096569e+07\n",
       "mean     9.967573e+04\n",
       "std      4.314168e+04\n",
       "min      2.590300e+04\n",
       "25%      6.729200e+04\n",
       "50%      9.676500e+04\n",
       "75%      1.281020e+05\n",
       "max      5.939010e+05\n",
       "Name: income, dtype: float64"
      ]
     },
     "execution_count": 29,
     "metadata": {},
     "output_type": "execute_result"
    }
   ],
   "source": [
    "#Pulling statistics on income to designate variables\n",
    "\n",
    "df['income'].describe()"
   ]
  },
  {
   "cell_type": "code",
   "execution_count": 30,
   "id": "8ed09d08-52fb-407f-9598-2d69454a5fdf",
   "metadata": {},
   "outputs": [],
   "source": [
    "#Designating income into three tiers; lower, middle, and high\n",
    "\n",
    "df.loc[df['income'] < 50000, 'Income Bracket'] = 'Low Income'"
   ]
  },
  {
   "cell_type": "code",
   "execution_count": 31,
   "id": "c69b4486-0104-4006-82e2-1e8f98ec895e",
   "metadata": {},
   "outputs": [],
   "source": [
    "df.loc[(df['income'] >= 50000) & (df['income'] < 100000), 'Income Bracket'] = 'Middle Income'"
   ]
  },
  {
   "cell_type": "code",
   "execution_count": 32,
   "id": "c35247e3-78a7-4c1f-b4b8-161f161f79f8",
   "metadata": {},
   "outputs": [],
   "source": [
    "df.loc[df['income'] >= 100000, 'Income Bracket'] = 'High Income'"
   ]
  },
  {
   "cell_type": "code",
   "execution_count": 33,
   "id": "412fccdf-a776-46c0-8595-d7af51d7ed8d",
   "metadata": {},
   "outputs": [
    {
     "data": {
      "text/plain": [
       "Income Bracket\n",
       "High Income      14207890\n",
       "Middle Income    13395113\n",
       "Low Income        3362683\n",
       "Name: count, dtype: int64"
      ]
     },
     "execution_count": 33,
     "metadata": {},
     "output_type": "execute_result"
    }
   ],
   "source": [
    "df['Income Bracket'].value_counts(dropna = False)"
   ]
  },
  {
   "cell_type": "code",
   "execution_count": 35,
   "id": "e4623fc6-acbf-4897-855c-daec26f8d4f5",
   "metadata": {},
   "outputs": [
    {
     "data": {
      "image/png": "[encoded data removed]",
      "text/plain": [
       "<Figure size 640x480 with 1 Axes>"
      ]
     },
     "metadata": {},
     "output_type": "display_data"
    }
   ],
   "source": [
    "#Creating bar chart of income groups\n",
    "\n",
    "Income_bar = df['Income Bracket'].value_counts().sort_index().plot.bar(color = ['lightgreen', 'green', 'darkgreen'])\n",
    "\n",
    "plt.title('Customers in Income Bracket')\n",
    "plt.ylabel('Customers')\n",
    "plt.xticks(rotation = 45)\n",
    "plt.tight_layout(pad=3)\n",
    "\n",
    "#Removing scientific notation\n",
    "Income_bar.yaxis.set_major_formatter(mticker.StrMethodFormatter('{x:,.0f}'))\n",
    "\n",
    "#Resetting Income Bracket index\n",
    "income_order = ['Low Income', 'Middle Income', 'High Income']\n",
    "df['Income Bracket'] = pd.Categorical(df['Income Bracket'], categories=income_order, ordered=True)\n",
    "df = df.sort_values('Income Bracket')\n",
    "\n",
    "#Exporting chart\n",
    "Income_bar.figure.savefig(os.path.join(path, '04 Analysis', 'Visualizations', 'Income Distibution Bar.png'))"
   ]
  },
  {
   "cell_type": "code",
   "execution_count": 78,
   "id": "258b2312-a234-4545-92e8-bb8f9979757b",
   "metadata": {},
   "outputs": [
    {
     "name": "stdout",
     "output_type": "stream",
     "text": [
      "<class 'pandas.core.frame.DataFrame'>\n",
      "Index: 30965686 entries, 1841487 to 30965685\n",
      "Data columns (total 37 columns):\n",
      " #   Column                         Dtype   \n",
      "---  ------                         -----   \n",
      " 0   order_id                       object  \n",
      " 1   user_id                        object  \n",
      " 2   order_number                   int64   \n",
      " 3   orders_day_of_week             int8    \n",
      " 4   order_hour_of_day              int8    \n",
      " 5   days_since_prior_order         float64 \n",
      " 6   product_id                     int64   \n",
      " 7   add_to_cart_order              int64   \n",
      " 8   reordered                      int8    \n",
      " 9   product_name                   object  \n",
      " 10  aisle_id                       int16   \n",
      " 11  department_id                  int8    \n",
      " 12  prices                         float64 \n",
      " 13  price_range_loc                category\n",
      " 14  busiest_day                    category\n",
      " 15  busiest_period_of_day          category\n",
      " 16  max_order                      int16   \n",
      " 17  loyalty_flag                   category\n",
      " 18  average_price                  float64 \n",
      " 19  spending_flag                  category\n",
      " 20  median_days_since_prior_order  float64 \n",
      " 21  frequency_flag                 category\n",
      " 22  Gender                         category\n",
      " 23  STATE                          category\n",
      " 24  Age                            int8    \n",
      " 25  date_joined                    object  \n",
      " 26  dependants                     int8    \n",
      " 27  fam_status                     category\n",
      " 28  income                         int32   \n",
      " 29  _merge                         category\n",
      " 30  Region                         category\n",
      " 31  Activity_flag                  category\n",
      " 32  Age group                      category\n",
      " 33  Income Bracket                 category\n",
      " 34  department                     category\n",
      " 35  Department group               category\n",
      " 36  Provider status                category\n",
      "dtypes: category(17), float64(4), int16(2), int32(1), int64(3), int8(6), object(4)\n",
      "memory usage: 3.7+ GB\n"
     ]
    }
   ],
   "source": [
    "#Establishing department groups\n",
    "\n",
    "df.info()"
   ]
  },
  {
   "cell_type": "code",
   "execution_count": 36,
   "id": "245b0820-c060-4458-bedc-193b2d6f28b6",
   "metadata": {},
   "outputs": [],
   "source": [
    "#Need to pull in departments data into dataframe\n",
    "\n",
    "df_dept = pd.read_csv(os.path.join(path, '02 Data', 'Prepared Data', 'departments_wrangled.csv'))"
   ]
  },
  {
   "cell_type": "code",
   "execution_count": 43,
   "id": "30f86c0d-0560-4255-b9ba-dbf96691eb6f",
   "metadata": {},
   "outputs": [
    {
     "data": {
      "text/html": [
       "<div>\n",
       "<style scoped>\n",
       "    .dataframe tbody tr th:only-of-type {\n",
       "        vertical-align: middle;\n",
       "    }\n",
       "\n",
       "    .dataframe tbody tr th {\n",
       "        vertical-align: top;\n",
       "    }\n",
       "\n",
       "    .dataframe thead th {\n",
       "        text-align: right;\n",
       "    }\n",
       "</style>\n",
       "<table border=\"1\" class=\"dataframe\">\n",
       "  <thead>\n",
       "    <tr style=\"text-align: right;\">\n",
       "      <th></th>\n",
       "      <th>Unnamed: 0</th>\n",
       "      <th>department</th>\n",
       "    </tr>\n",
       "  </thead>\n",
       "  <tbody>\n",
       "    <tr>\n",
       "      <th>0</th>\n",
       "      <td>1</td>\n",
       "      <td>frozen</td>\n",
       "    </tr>\n",
       "    <tr>\n",
       "      <th>1</th>\n",
       "      <td>2</td>\n",
       "      <td>other</td>\n",
       "    </tr>\n",
       "    <tr>\n",
       "      <th>2</th>\n",
       "      <td>3</td>\n",
       "      <td>bakery</td>\n",
       "    </tr>\n",
       "    <tr>\n",
       "      <th>3</th>\n",
       "      <td>4</td>\n",
       "      <td>produce</td>\n",
       "    </tr>\n",
       "    <tr>\n",
       "      <th>4</th>\n",
       "      <td>5</td>\n",
       "      <td>alcohol</td>\n",
       "    </tr>\n",
       "  </tbody>\n",
       "</table>\n",
       "</div>"
      ],
      "text/plain": [
       "   Unnamed: 0 department\n",
       "0           1     frozen\n",
       "1           2      other\n",
       "2           3     bakery\n",
       "3           4    produce\n",
       "4           5    alcohol"
      ]
     },
     "execution_count": 43,
     "metadata": {},
     "output_type": "execute_result"
    }
   ],
   "source": [
    "df_dept.head()"
   ]
  },
  {
   "cell_type": "code",
   "execution_count": 37,
   "id": "8f1535b6-83a7-4ba4-959e-2931d49b7222",
   "metadata": {},
   "outputs": [],
   "source": [
    "#Changing column name of Unnamed: 0 to department_id to accommodate merge\n",
    "\n",
    "df_dept.rename(columns = {'Unnamed: 0' : 'department_id'}, inplace = True)"
   ]
  },
  {
   "cell_type": "code",
   "execution_count": 38,
   "id": "d0d823fe-c6e7-4a55-8af8-7a183110b2aa",
   "metadata": {},
   "outputs": [
    {
     "data": {
      "text/html": [
       "<div>\n",
       "<style scoped>\n",
       "    .dataframe tbody tr th:only-of-type {\n",
       "        vertical-align: middle;\n",
       "    }\n",
       "\n",
       "    .dataframe tbody tr th {\n",
       "        vertical-align: top;\n",
       "    }\n",
       "\n",
       "    .dataframe thead th {\n",
       "        text-align: right;\n",
       "    }\n",
       "</style>\n",
       "<table border=\"1\" class=\"dataframe\">\n",
       "  <thead>\n",
       "    <tr style=\"text-align: right;\">\n",
       "      <th></th>\n",
       "      <th>department_id</th>\n",
       "      <th>department</th>\n",
       "    </tr>\n",
       "  </thead>\n",
       "  <tbody>\n",
       "    <tr>\n",
       "      <th>0</th>\n",
       "      <td>1</td>\n",
       "      <td>frozen</td>\n",
       "    </tr>\n",
       "    <tr>\n",
       "      <th>1</th>\n",
       "      <td>2</td>\n",
       "      <td>other</td>\n",
       "    </tr>\n",
       "    <tr>\n",
       "      <th>2</th>\n",
       "      <td>3</td>\n",
       "      <td>bakery</td>\n",
       "    </tr>\n",
       "    <tr>\n",
       "      <th>3</th>\n",
       "      <td>4</td>\n",
       "      <td>produce</td>\n",
       "    </tr>\n",
       "    <tr>\n",
       "      <th>4</th>\n",
       "      <td>5</td>\n",
       "      <td>alcohol</td>\n",
       "    </tr>\n",
       "  </tbody>\n",
       "</table>\n",
       "</div>"
      ],
      "text/plain": [
       "   department_id department\n",
       "0              1     frozen\n",
       "1              2      other\n",
       "2              3     bakery\n",
       "3              4    produce\n",
       "4              5    alcohol"
      ]
     },
     "execution_count": 38,
     "metadata": {},
     "output_type": "execute_result"
    }
   ],
   "source": [
    "df_dept.head()"
   ]
  },
  {
   "cell_type": "code",
   "execution_count": 39,
   "id": "2529eb16-b25a-4e99-b6d2-546de2b749f0",
   "metadata": {},
   "outputs": [],
   "source": [
    "#Will merge df_dept with df\n",
    "\n",
    "df = df.merge(df_dept, on = 'department_id')"
   ]
  },
  {
   "cell_type": "code",
   "execution_count": 40,
   "id": "90e1df66-65f7-4939-b8e2-91e2334602f7",
   "metadata": {},
   "outputs": [
    {
     "data": {
      "text/html": [
       "<div>\n",
       "<style scoped>\n",
       "    .dataframe tbody tr th:only-of-type {\n",
       "        vertical-align: middle;\n",
       "    }\n",
       "\n",
       "    .dataframe tbody tr th {\n",
       "        vertical-align: top;\n",
       "    }\n",
       "\n",
       "    .dataframe thead th {\n",
       "        text-align: right;\n",
       "    }\n",
       "</style>\n",
       "<table border=\"1\" class=\"dataframe\">\n",
       "  <thead>\n",
       "    <tr style=\"text-align: right;\">\n",
       "      <th></th>\n",
       "      <th>order_id</th>\n",
       "      <th>user_id</th>\n",
       "      <th>order_number</th>\n",
       "      <th>orders_day_of_week</th>\n",
       "      <th>order_hour_of_day</th>\n",
       "      <th>days_since_prior_order</th>\n",
       "      <th>product_id</th>\n",
       "      <th>add_to_cart_order</th>\n",
       "      <th>reordered</th>\n",
       "      <th>product_name</th>\n",
       "      <th>...</th>\n",
       "      <th>date_joined</th>\n",
       "      <th>dependants</th>\n",
       "      <th>fam_status</th>\n",
       "      <th>income</th>\n",
       "      <th>_merge</th>\n",
       "      <th>Region</th>\n",
       "      <th>Activity_flag</th>\n",
       "      <th>Age group</th>\n",
       "      <th>Income Bracket</th>\n",
       "      <th>department</th>\n",
       "    </tr>\n",
       "  </thead>\n",
       "  <tbody>\n",
       "    <tr>\n",
       "      <th>0</th>\n",
       "      <td>2191680</td>\n",
       "      <td>151102</td>\n",
       "      <td>40</td>\n",
       "      <td>4</td>\n",
       "      <td>8</td>\n",
       "      <td>3.0</td>\n",
       "      <td>23565</td>\n",
       "      <td>3</td>\n",
       "      <td>0</td>\n",
       "      <td>Jamon Serrano Dry Cured Ham</td>\n",
       "      <td>...</td>\n",
       "      <td>2/4/2019</td>\n",
       "      <td>0</td>\n",
       "      <td>single</td>\n",
       "      <td>41535</td>\n",
       "      <td>both</td>\n",
       "      <td>Northeast</td>\n",
       "      <td>Active</td>\n",
       "      <td>Middle aged</td>\n",
       "      <td>Low Income</td>\n",
       "      <td>deli</td>\n",
       "    </tr>\n",
       "    <tr>\n",
       "      <th>1</th>\n",
       "      <td>536210</td>\n",
       "      <td>141401</td>\n",
       "      <td>14</td>\n",
       "      <td>5</td>\n",
       "      <td>10</td>\n",
       "      <td>3.0</td>\n",
       "      <td>14764</td>\n",
       "      <td>8</td>\n",
       "      <td>1</td>\n",
       "      <td>Organic Sprouted Wheat Bagels</td>\n",
       "      <td>...</td>\n",
       "      <td>9/18/2019</td>\n",
       "      <td>2</td>\n",
       "      <td>married</td>\n",
       "      <td>33437</td>\n",
       "      <td>both</td>\n",
       "      <td>Midwest</td>\n",
       "      <td>Active</td>\n",
       "      <td>Adult</td>\n",
       "      <td>Low Income</td>\n",
       "      <td>bakery</td>\n",
       "    </tr>\n",
       "    <tr>\n",
       "      <th>2</th>\n",
       "      <td>2428734</td>\n",
       "      <td>141401</td>\n",
       "      <td>15</td>\n",
       "      <td>2</td>\n",
       "      <td>11</td>\n",
       "      <td>4.0</td>\n",
       "      <td>9155</td>\n",
       "      <td>1</td>\n",
       "      <td>0</td>\n",
       "      <td>Spinach Dip</td>\n",
       "      <td>...</td>\n",
       "      <td>9/18/2019</td>\n",
       "      <td>2</td>\n",
       "      <td>married</td>\n",
       "      <td>33437</td>\n",
       "      <td>both</td>\n",
       "      <td>Midwest</td>\n",
       "      <td>Active</td>\n",
       "      <td>Adult</td>\n",
       "      <td>Low Income</td>\n",
       "      <td>deli</td>\n",
       "    </tr>\n",
       "    <tr>\n",
       "      <th>3</th>\n",
       "      <td>1321435</td>\n",
       "      <td>141401</td>\n",
       "      <td>6</td>\n",
       "      <td>4</td>\n",
       "      <td>9</td>\n",
       "      <td>1.0</td>\n",
       "      <td>7139</td>\n",
       "      <td>1</td>\n",
       "      <td>0</td>\n",
       "      <td>Sooo Good Light Roast Coffee</td>\n",
       "      <td>...</td>\n",
       "      <td>9/18/2019</td>\n",
       "      <td>2</td>\n",
       "      <td>married</td>\n",
       "      <td>33437</td>\n",
       "      <td>both</td>\n",
       "      <td>Midwest</td>\n",
       "      <td>Active</td>\n",
       "      <td>Adult</td>\n",
       "      <td>Low Income</td>\n",
       "      <td>beverages</td>\n",
       "    </tr>\n",
       "    <tr>\n",
       "      <th>4</th>\n",
       "      <td>3124554</td>\n",
       "      <td>141401</td>\n",
       "      <td>5</td>\n",
       "      <td>3</td>\n",
       "      <td>9</td>\n",
       "      <td>5.0</td>\n",
       "      <td>22035</td>\n",
       "      <td>11</td>\n",
       "      <td>1</td>\n",
       "      <td>Organic Whole String Cheese</td>\n",
       "      <td>...</td>\n",
       "      <td>9/18/2019</td>\n",
       "      <td>2</td>\n",
       "      <td>married</td>\n",
       "      <td>33437</td>\n",
       "      <td>both</td>\n",
       "      <td>Midwest</td>\n",
       "      <td>Active</td>\n",
       "      <td>Adult</td>\n",
       "      <td>Low Income</td>\n",
       "      <td>dairy eggs</td>\n",
       "    </tr>\n",
       "  </tbody>\n",
       "</table>\n",
       "<p>5 rows × 35 columns</p>\n",
       "</div>"
      ],
      "text/plain": [
       "  order_id user_id  order_number  orders_day_of_week  order_hour_of_day  \\\n",
       "0  2191680  151102            40                   4                  8   \n",
       "1   536210  141401            14                   5                 10   \n",
       "2  2428734  141401            15                   2                 11   \n",
       "3  1321435  141401             6                   4                  9   \n",
       "4  3124554  141401             5                   3                  9   \n",
       "\n",
       "   days_since_prior_order  product_id  add_to_cart_order  reordered  \\\n",
       "0                     3.0       23565                  3          0   \n",
       "1                     3.0       14764                  8          1   \n",
       "2                     4.0        9155                  1          0   \n",
       "3                     1.0        7139                  1          0   \n",
       "4                     5.0       22035                 11          1   \n",
       "\n",
       "                    product_name  ...  date_joined  dependants  fam_status  \\\n",
       "0    Jamon Serrano Dry Cured Ham  ...     2/4/2019           0      single   \n",
       "1  Organic Sprouted Wheat Bagels  ...    9/18/2019           2     married   \n",
       "2                    Spinach Dip  ...    9/18/2019           2     married   \n",
       "3   Sooo Good Light Roast Coffee  ...    9/18/2019           2     married   \n",
       "4    Organic Whole String Cheese  ...    9/18/2019           2     married   \n",
       "\n",
       "  income _merge     Region  Activity_flag    Age group  Income Bracket  \\\n",
       "0  41535   both  Northeast         Active  Middle aged      Low Income   \n",
       "1  33437   both    Midwest         Active        Adult      Low Income   \n",
       "2  33437   both    Midwest         Active        Adult      Low Income   \n",
       "3  33437   both    Midwest         Active        Adult      Low Income   \n",
       "4  33437   both    Midwest         Active        Adult      Low Income   \n",
       "\n",
       "   department  \n",
       "0        deli  \n",
       "1      bakery  \n",
       "2        deli  \n",
       "3   beverages  \n",
       "4  dairy eggs  \n",
       "\n",
       "[5 rows x 35 columns]"
      ]
     },
     "execution_count": 40,
     "metadata": {},
     "output_type": "execute_result"
    }
   ],
   "source": [
    "df.head()"
   ]
  },
  {
   "cell_type": "code",
   "execution_count": 41,
   "id": "d9ee1501-82ae-480f-a509-8fb18075ef0a",
   "metadata": {},
   "outputs": [
    {
     "data": {
      "text/plain": [
       "department\n",
       "produce            9079273\n",
       "dairy eggs         5177182\n",
       "snacks             2766406\n",
       "beverages          2571901\n",
       "frozen             2121731\n",
       "pantry             1782705\n",
       "bakery             1120828\n",
       "canned goods       1012074\n",
       "deli               1003834\n",
       "dry goods pasta     822136\n",
       "household           699857\n",
       "meat seafood        674781\n",
       "breakfast           671872\n",
       "personal care       424359\n",
       "babies              410392\n",
       "international       255991\n",
       "alcohol             144674\n",
       "pets                 93060\n",
       "missing              64768\n",
       "other                34411\n",
       "bulk                 33451\n",
       "Name: count, dtype: int64"
      ]
     },
     "execution_count": 41,
     "metadata": {},
     "output_type": "execute_result"
    }
   ],
   "source": [
    "df['department'].value_counts(dropna = False)"
   ]
  },
  {
   "cell_type": "code",
   "execution_count": 42,
   "id": "b325fc7d-ddf3-4b89-bd61-90010d58a78f",
   "metadata": {},
   "outputs": [],
   "source": [
    "#Will create groups of departments\n",
    "\n",
    "df.loc[df['department'].isin(['produce', 'dairy eggs', 'snacks', 'beverages', 'frozen', 'pantry', 'bakery', 'canned goods',\n",
    "                              'deli', 'dry goods pasta', 'meat seafood', 'breakfast', 'personal care', 'international',\n",
    "                              'alcohol']), 'Department group'] = 'Foods'"
   ]
  },
  {
   "cell_type": "code",
   "execution_count": 43,
   "id": "aac5e7e6-c9c6-4504-b3f9-67985c2c73e0",
   "metadata": {},
   "outputs": [],
   "source": [
    "df.loc[df['department'].isin(['household', 'personal care', 'babies', 'pets', 'missing', 'other', 'bulk']), 'Department group'] = 'Non-food Misc'"
   ]
  },
  {
   "cell_type": "code",
   "execution_count": 44,
   "id": "187511f7-b117-4caf-863b-c3dac325dcba",
   "metadata": {},
   "outputs": [
    {
     "data": {
      "text/plain": [
       "Department group\n",
       "Foods            29205388\n",
       "Non-food Misc     1760298\n",
       "Name: count, dtype: int64"
      ]
     },
     "execution_count": 44,
     "metadata": {},
     "output_type": "execute_result"
    }
   ],
   "source": [
    "df['Department group'].value_counts(dropna = False)"
   ]
  },
  {
   "cell_type": "code",
   "execution_count": 45,
   "id": "f6ccfee8-24aa-42ed-af9e-6946938e700d",
   "metadata": {},
   "outputs": [
    {
     "data": {
      "image/png": "[encoded data removed]",
      "text/plain": [
       "<Figure size 640x480 with 1 Axes>"
      ]
     },
     "metadata": {},
     "output_type": "display_data"
    }
   ],
   "source": [
    "#Creating pie chart of departments\n",
    "\n",
    "#Plotting pie chart\n",
    "dept_group_counts = df['Department group'].value_counts()\n",
    "dept_pie = dept_group_counts.plot.pie(autopct='%1.1f%%')\n",
    "\n",
    "#Customizing chart\n",
    "plt.ylabel('')\n",
    "plt.title('Items bought from food departments compared to non-food departments')\n",
    "\n",
    "#Exporting chart\n",
    "dept_pie.figure.savefig(os.path.join(path, '04 Analysis', 'Visualizations', 'Food Pie.png'))"
   ]
  },
  {
   "cell_type": "code",
   "execution_count": 53,
   "id": "aa4b459b-65fb-4d10-b37c-ebe4c71ad122",
   "metadata": {},
   "outputs": [
    {
     "data": {
      "text/plain": [
       "dependants  fam_status                      \n",
       "3           married                             7284299\n",
       "2           married                             7248829\n",
       "1           married                             7211334\n",
       "0           single                              5094645\n",
       "            divorced/widowed                    2645371\n",
       "1           living with parents and siblings     508060\n",
       "3           living with parents and siblings     488477\n",
       "2           living with parents and siblings     484671\n",
       "Name: count, dtype: int64"
      ]
     },
     "execution_count": 53,
     "metadata": {},
     "output_type": "execute_result"
    }
   ],
   "source": [
    "#Creating variable based on number of dependants and fam_status\n",
    "\n",
    "df[['dependants', 'fam_status']].value_counts(dropna = False)"
   ]
  },
  {
   "cell_type": "code",
   "execution_count": 54,
   "id": "72376a25-6e52-4c1c-9980-7b2dd966277e",
   "metadata": {},
   "outputs": [
    {
     "data": {
      "text/plain": [
       "fam_status\n",
       "married                             21744462\n",
       "single                               5094645\n",
       "divorced/widowed                     2645371\n",
       "living with parents and siblings     1481208\n",
       "Name: count, dtype: int64"
      ]
     },
     "execution_count": 54,
     "metadata": {},
     "output_type": "execute_result"
    }
   ],
   "source": [
    "df['fam_status'].value_counts(dropna = False)"
   ]
  },
  {
   "cell_type": "markdown",
   "id": "25d2b09f-e926-4beb-aa82-57b40e5574eb",
   "metadata": {},
   "source": [
    "Every single fam_status of married has dependants > 0, which doesn't seem right unless dependants means other people in your household.  I'm going to create variables with the assumption that a married status with dependants of 1 is in reference to their spouse, and not a child or infirm parent.  Essentially, married with dependants = 1 is going to mean dual income, no kids, an important growing group.\n",
    "\n",
    "Another issue is that all single listings have dependants listed as 0, which means no single parents?\n",
    "\n",
    "Final issue is living with parents and siblings all have dependants > 0, but you wouldn't list a parent or sibling as dependant unless they were infirm/disabled in some way\n",
    "\n",
    "The groups will be listed as follows with the following definitions:\n",
    "\n",
    "married with dependants = 1 will mean married, no dependants 'married, no dep'\n",
    "married with dependants > 1 will mean married with dependants, 'married, dep'\n",
    "single and divored/widowed will mean a single adult with no dependants 'single, no dep'\n",
    "living with parents and siblings will mean a single adult with dependants, including the possibility of their own children 'single, dep'\n"
   ]
  },
  {
   "cell_type": "code",
   "execution_count": 46,
   "id": "38e8c454-6ba9-46b7-911d-6b8a2799dd6c",
   "metadata": {},
   "outputs": [],
   "source": [
    "#Creating Provider status variable\n",
    "\n",
    "df.loc[(df['fam_status'] == 'married') & (df['dependants'] == 1), 'Provider status'] = 'married, no dep'"
   ]
  },
  {
   "cell_type": "code",
   "execution_count": 47,
   "id": "7a281754-24fa-452f-875c-50298c94abef",
   "metadata": {},
   "outputs": [],
   "source": [
    "df.loc[(df['fam_status'] == 'married') & (df['dependants'].isin([2, 3])), 'Provider status'] = 'married, dep'"
   ]
  },
  {
   "cell_type": "code",
   "execution_count": 48,
   "id": "6ec87e1c-84f3-4c80-be8a-6cfdb3bb9237",
   "metadata": {},
   "outputs": [],
   "source": [
    "df.loc[df['fam_status'].isin(['single', 'divorced/widowed']), 'Provider status'] = 'single, no dep'"
   ]
  },
  {
   "cell_type": "code",
   "execution_count": 49,
   "id": "2fb81aa1-f89a-4432-96d2-1bb073d41207",
   "metadata": {},
   "outputs": [],
   "source": [
    "df.loc[(df['fam_status'] == 'living with parents and siblings'), 'Provider status'] = 'single, dep'"
   ]
  },
  {
   "cell_type": "code",
   "execution_count": 50,
   "id": "7f28692a-bc6b-468d-b3e4-fdf05cdf25ec",
   "metadata": {},
   "outputs": [
    {
     "data": {
      "text/plain": [
       "Provider status\n",
       "married, dep       14533128\n",
       "single, no dep      7740016\n",
       "married, no dep     7211334\n",
       "single, dep         1481208\n",
       "Name: count, dtype: int64"
      ]
     },
     "execution_count": 50,
     "metadata": {},
     "output_type": "execute_result"
    }
   ],
   "source": [
    "df['Provider status'].value_counts(dropna = False)"
   ]
  },
  {
   "cell_type": "code",
   "execution_count": 51,
   "id": "f76d6400-91aa-4b2d-83e8-8dde7c56f21f",
   "metadata": {},
   "outputs": [],
   "source": [
    "#Reordering provider status index\n",
    "\n",
    "provider_order = ['single, no dep', 'single, dep', 'married, no dep', 'married, dep']\n",
    "df['Provider status'] = pd.Categorical(df['Provider status'], categories=provider_order, ordered=True)\n",
    "df = df.sort_values('Provider status')"
   ]
  },
  {
   "cell_type": "code",
   "execution_count": 52,
   "id": "aee090e5-4565-4827-ada0-7fd90537b497",
   "metadata": {},
   "outputs": [
    {
     "data": {
      "image/png": "[encoded data removed]",
      "text/plain": [
       "<Figure size 640x480 with 1 Axes>"
      ]
     },
     "metadata": {},
     "output_type": "display_data"
    }
   ],
   "source": [
    "#Creating provider bar chart\n",
    "\n",
    "provider_bar = df['Provider status'].value_counts().sort_index().plot.bar()\n",
    "\n",
    "#Removing scientific notation\n",
    "provider_bar.yaxis.set_major_formatter(mticker.StrMethodFormatter('{x:,.0f}'))\n",
    "\n",
    "#Customizing bar chart\n",
    "plt.title('Customers in various provider statuses')\n",
    "plt.ylabel('Customers')\n",
    "plt.xticks(rotation = 45)\n",
    "plt.tight_layout(pad=3)\n",
    "\n",
    "#Exporting\n",
    "provider_bar.figure.savefig(os.path.join(path, '04 Analysis', 'Visualizations', 'Provider status.png'))"
   ]
  },
  {
   "cell_type": "code",
   "execution_count": 62,
   "id": "0ecf2a1d-c9b2-4aa6-86a6-1ad513411437",
   "metadata": {},
   "outputs": [
    {
     "name": "stdout",
     "output_type": "stream",
     "text": [
      "<class 'pandas.core.frame.DataFrame'>\n",
      "Index: 30965686 entries, 0 to 30965685\n",
      "Data columns (total 37 columns):\n",
      " #   Column                         Dtype   \n",
      "---  ------                         -----   \n",
      " 0   order_id                       object  \n",
      " 1   user_id                        object  \n",
      " 2   order_number                   int64   \n",
      " 3   orders_day_of_week             int64   \n",
      " 4   order_hour_of_day              int64   \n",
      " 5   days_since_prior_order         float64 \n",
      " 6   product_id                     int64   \n",
      " 7   add_to_cart_order              int64   \n",
      " 8   reordered                      int64   \n",
      " 9   product_name                   object  \n",
      " 10  aisle_id                       int64   \n",
      " 11  department_id                  int64   \n",
      " 12  prices                         float64 \n",
      " 13  price_range_loc                object  \n",
      " 14  busiest_day                    object  \n",
      " 15  busiest_period_of_day          object  \n",
      " 16  max_order                      int64   \n",
      " 17  loyalty_flag                   object  \n",
      " 18  average_price                  float64 \n",
      " 19  spending_flag                  object  \n",
      " 20  median_days_since_prior_order  float64 \n",
      " 21  frequency_flag                 object  \n",
      " 22  Gender                         object  \n",
      " 23  STATE                          object  \n",
      " 24  Age                            int64   \n",
      " 25  date_joined                    object  \n",
      " 26  dependants                     int64   \n",
      " 27  fam_status                     object  \n",
      " 28  income                         int64   \n",
      " 29  _merge                         category\n",
      " 30  Region                         object  \n",
      " 31  Activity_flag                  object  \n",
      " 32  Age group                      category\n",
      " 33  Income Bracket                 category\n",
      " 34  department                     object  \n",
      " 35  Department group               object  \n",
      " 36  Provider status                category\n",
      "dtypes: category(4), float64(4), int64(12), object(17)\n",
      "memory usage: 8.0+ GB\n"
     ]
    }
   ],
   "source": [
    "df.info()"
   ]
  },
  {
   "cell_type": "code",
   "execution_count": 63,
   "id": "1c474391-ec48-4630-b052-8c01fe3af440",
   "metadata": {},
   "outputs": [],
   "source": [
    "#Converting columns from object to category for memory usage\n",
    "\n",
    "cat_cols = ['aisle_id', 'department_id', 'price_range_loc', 'busiest_day', 'busiest_period_of_day', 'loyalty_flag', 'spending_flag',\n",
    "            'frequency_flag', 'Gender', 'STATE', 'fam_status', 'Region', 'Activity_flag', 'department', 'Department group']"
   ]
  },
  {
   "cell_type": "code",
   "execution_count": 64,
   "id": "7e83f049-67df-4977-97a0-bec4ece279b5",
   "metadata": {},
   "outputs": [],
   "source": [
    "df[cat_cols] = df[cat_cols].astype('category')"
   ]
  },
  {
   "cell_type": "code",
   "execution_count": 65,
   "id": "5309b090-5ac5-4f52-b3e6-927bcc95caa4",
   "metadata": {},
   "outputs": [],
   "source": [
    "#Converting integer types for memory usage\n",
    "\n",
    "df['orders_day_of_week'] = df['orders_day_of_week'].astype('int8')\n",
    "df['order_hour_of_day'] = df['order_hour_of_day'].astype('int8')\n",
    "df['reordered'] = df['reordered'].astype('int8')\n",
    "df['aisle_id'] = df['aisle_id'].astype('int16')\n",
    "df['department_id'] = df['department_id'].astype('int8')\n",
    "df['max_order'] = df['max_order'].astype('int16')\n",
    "df['Age'] = df['Age'].astype('int8')\n",
    "df['dependants'] = df['dependants'].astype('int8')\n",
    "df['income'] = df['income'].astype('int32')"
   ]
  },
  {
   "cell_type": "code",
   "execution_count": 66,
   "id": "e3f38f82-14b2-43b3-83b6-053734be0da4",
   "metadata": {},
   "outputs": [
    {
     "name": "stdout",
     "output_type": "stream",
     "text": [
      "<class 'pandas.core.frame.DataFrame'>\n",
      "Index: 30965686 entries, 0 to 30965685\n",
      "Data columns (total 37 columns):\n",
      " #   Column                         Dtype   \n",
      "---  ------                         -----   \n",
      " 0   order_id                       object  \n",
      " 1   user_id                        object  \n",
      " 2   order_number                   int64   \n",
      " 3   orders_day_of_week             int8    \n",
      " 4   order_hour_of_day              int8    \n",
      " 5   days_since_prior_order         float64 \n",
      " 6   product_id                     int64   \n",
      " 7   add_to_cart_order              int64   \n",
      " 8   reordered                      int8    \n",
      " 9   product_name                   object  \n",
      " 10  aisle_id                       int16   \n",
      " 11  department_id                  int8    \n",
      " 12  prices                         float64 \n",
      " 13  price_range_loc                category\n",
      " 14  busiest_day                    category\n",
      " 15  busiest_period_of_day          category\n",
      " 16  max_order                      int16   \n",
      " 17  loyalty_flag                   category\n",
      " 18  average_price                  float64 \n",
      " 19  spending_flag                  category\n",
      " 20  median_days_since_prior_order  float64 \n",
      " 21  frequency_flag                 category\n",
      " 22  Gender                         category\n",
      " 23  STATE                          category\n",
      " 24  Age                            int8    \n",
      " 25  date_joined                    object  \n",
      " 26  dependants                     int8    \n",
      " 27  fam_status                     category\n",
      " 28  income                         int32   \n",
      " 29  _merge                         category\n",
      " 30  Region                         category\n",
      " 31  Activity_flag                  category\n",
      " 32  Age group                      category\n",
      " 33  Income Bracket                 category\n",
      " 34  department                     category\n",
      " 35  Department group               category\n",
      " 36  Provider status                category\n",
      "dtypes: category(17), float64(4), int16(2), int32(1), int64(3), int8(6), object(4)\n",
      "memory usage: 3.7+ GB\n"
     ]
    }
   ],
   "source": [
    "df.info()"
   ]
  },
  {
   "cell_type": "code",
   "execution_count": 68,
   "id": "95451198-0c82-4ad9-866d-6e0c6547604d",
   "metadata": {},
   "outputs": [],
   "source": [
    "#Exporting Data\n",
    "\n",
    "df.to_pickle(os.path.join(path, '02 Data', 'Prepared Data', 'CFO updated.pkl'))"
   ]
  },
  {
   "cell_type": "code",
   "execution_count": null,
   "id": "758a2513-1b53-4681-af0b-c4ae5f303d76",
   "metadata": {},
   "outputs": [],
   "source": []
  }
 ],
 "metadata": {
  "kernelspec": {
   "display_name": "Python 3 (ipykernel)",
   "language": "python",
   "name": "python3"
  },
  "language_info": {
   "codemirror_mode": {
    "name": "ipython",
    "version": 3
   },
   "file_extension": ".py",
   "mimetype": "text/x-python",
   "name": "python",
   "nbconvert_exporter": "python",
   "pygments_lexer": "ipython3",
   "version": "3.12.7"
  }
 },
 "nbformat": 4,
 "nbformat_minor": 5
}
