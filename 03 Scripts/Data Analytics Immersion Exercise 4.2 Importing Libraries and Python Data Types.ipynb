{
 "cells": [
  {
   "cell_type": "markdown",
   "id": "70a55937-4974-447c-9ba5-3fa8a4494010",
   "metadata": {},
   "source": [
    "Data Analytics Immersion Exercise 4.2\n",
    "\n",
    "Practicing\n",
    "\t\n",
    "    Importing libraries\n",
    "\t\n",
    "    Using basic functions\n"
   ]
  },
  {
   "cell_type": "markdown",
   "id": "2662ecb0-f590-4b90-a818-490e2d4c7997",
   "metadata": {},
   "source": [
    "#01. Importing Libraries"
   ]
  },
  {
   "cell_type": "code",
   "execution_count": 1,
   "id": "0655786c-ee4e-477f-9565-83be2b7a4429",
   "metadata": {},
   "outputs": [],
   "source": [
    "# Import libraries\n",
    "import pandas as pd\n",
    "import numpy as np\n",
    "import os"
   ]
  },
  {
   "cell_type": "markdown",
   "id": "cc6317eb-408d-447e-a939-3e00c81ebd83",
   "metadata": {},
   "source": [
    "02 Data Types"
   ]
  },
  {
   "cell_type": "code",
   "execution_count": 3,
   "id": "e6e332be-c0f1-4d67-b5f1-e04594349ab4",
   "metadata": {},
   "outputs": [],
   "source": [
    "a = 49"
   ]
  },
  {
   "cell_type": "code",
   "execution_count": 4,
   "id": "29593360-c1bd-4e0e-b440-60a41d962d70",
   "metadata": {},
   "outputs": [],
   "source": [
    "b = 51"
   ]
  },
  {
   "cell_type": "code",
   "execution_count": 5,
   "id": "f9369e6c-7da1-4170-a1d9-d0c227cff13e",
   "metadata": {},
   "outputs": [
    {
     "data": {
      "text/plain": [
       "100"
      ]
     },
     "execution_count": 5,
     "metadata": {},
     "output_type": "execute_result"
    }
   ],
   "source": [
    "a + b"
   ]
  },
  {
   "cell_type": "code",
   "execution_count": 6,
   "id": "295c9afc-718b-48ab-a4c8-1818e6288b2f",
   "metadata": {},
   "outputs": [],
   "source": [
    "c = 151"
   ]
  },
  {
   "cell_type": "code",
   "execution_count": 7,
   "id": "36eeac98-91d1-47ba-85cd-65096b83514d",
   "metadata": {},
   "outputs": [
    {
     "data": {
      "text/plain": [
       "100"
      ]
     },
     "execution_count": 7,
     "metadata": {},
     "output_type": "execute_result"
    }
   ],
   "source": [
    "c - b"
   ]
  },
  {
   "cell_type": "code",
   "execution_count": 8,
   "id": "fb69eaa7-7eb2-4118-bc91-dba8346efadb",
   "metadata": {},
   "outputs": [
    {
     "data": {
      "text/plain": [
       "100.0"
      ]
     },
     "execution_count": 8,
     "metadata": {},
     "output_type": "execute_result"
    }
   ],
   "source": [
    "(a + b)/2*2"
   ]
  },
  {
   "cell_type": "code",
   "execution_count": 9,
   "id": "f194af1c-e03f-41ad-9efb-5ae9ab6054fe",
   "metadata": {},
   "outputs": [],
   "source": [
    "d = 3.14"
   ]
  },
  {
   "cell_type": "code",
   "execution_count": 10,
   "id": "da2f22f0-b6c4-4923-a0d3-8d47e30188d3",
   "metadata": {},
   "outputs": [],
   "source": [
    "e = 6.022"
   ]
  },
  {
   "cell_type": "code",
   "execution_count": 11,
   "id": "38cf60ca-f43d-4c85-8f5c-38a277b19391",
   "metadata": {},
   "outputs": [
    {
     "data": {
      "text/plain": [
       "1.9178343949044585"
      ]
     },
     "execution_count": 11,
     "metadata": {},
     "output_type": "execute_result"
    }
   ],
   "source": [
    "e / d"
   ]
  },
  {
   "cell_type": "code",
   "execution_count": 12,
   "id": "960de753-2260-4c44-9d34-00f36e7e2023",
   "metadata": {},
   "outputs": [],
   "source": [
    "f = 'play'"
   ]
  },
  {
   "cell_type": "code",
   "execution_count": 21,
   "id": "fbf21790-97fc-441a-a884-deae1712def3",
   "metadata": {},
   "outputs": [],
   "source": [
    "g = 'off '"
   ]
  },
  {
   "cell_type": "code",
   "execution_count": 22,
   "id": "cd672162-226d-4351-8a88-706788571b97",
   "metadata": {},
   "outputs": [
    {
     "data": {
      "text/plain": [
       "'playoff '"
      ]
     },
     "execution_count": 22,
     "metadata": {},
     "output_type": "execute_result"
    }
   ],
   "source": [
    "f + g"
   ]
  },
  {
   "cell_type": "code",
   "execution_count": 23,
   "id": "5b0814ae-679b-44ec-b08f-9572f1bc7c4d",
   "metadata": {},
   "outputs": [],
   "source": [
    "h = 'vikings '"
   ]
  },
  {
   "cell_type": "code",
   "execution_count": 24,
   "id": "86f5b6dd-e6a5-4e11-bcb5-21a6ef8557a4",
   "metadata": {},
   "outputs": [],
   "source": [
    "i = 'give '"
   ]
  },
  {
   "cell_type": "code",
   "execution_count": 27,
   "id": "85ee71a3-b6ae-4b0f-bdc5-88ce0724f000",
   "metadata": {},
   "outputs": [],
   "source": [
    "j = 'heartbreak'"
   ]
  },
  {
   "cell_type": "code",
   "execution_count": 28,
   "id": "955085fe-1685-4677-9885-cb9ffae809d5",
   "metadata": {},
   "outputs": [
    {
     "data": {
      "text/plain": [
       "'vikings give playoff heartbreak'"
      ]
     },
     "execution_count": 28,
     "metadata": {},
     "output_type": "execute_result"
    }
   ],
   "source": [
    "h + i + (f+g) + j"
   ]
  },
  {
   "cell_type": "code",
   "execution_count": 31,
   "id": "bcc1d056-8580-42ea-8cb8-b72d074ba2ee",
   "metadata": {},
   "outputs": [],
   "source": [
    "k = 'Monday night '"
   ]
  },
  {
   "cell_type": "code",
   "execution_count": 32,
   "id": "9443edd0-516d-4db7-a077-1c0fccabb360",
   "metadata": {},
   "outputs": [],
   "source": [
    "l = 'will be emotional'"
   ]
  },
  {
   "cell_type": "code",
   "execution_count": 33,
   "id": "b23fa70a-9899-4e11-8697-71a6d4101e3b",
   "metadata": {},
   "outputs": [
    {
     "data": {
      "text/plain": [
       "'Monday night will be emotional'"
      ]
     },
     "execution_count": 33,
     "metadata": {},
     "output_type": "execute_result"
    }
   ],
   "source": [
    "k + l"
   ]
  },
  {
   "cell_type": "code",
   "execution_count": 34,
   "id": "ced2faea-88b7-4b8f-96c2-36a608f8b254",
   "metadata": {},
   "outputs": [
    {
     "data": {
      "text/plain": [
       "'vikings give playoff heartbreakvikings give playoff heartbreakvikings give playoff heartbreakvikings give playoff heartbreakvikings give playoff heartbreakvikings give playoff heartbreakvikings give playoff heartbreakvikings give playoff heartbreakvikings give playoff heartbreakvikings give playoff heartbreakvikings give playoff heartbreakvikings give playoff heartbreakvikings give playoff heartbreakvikings give playoff heartbreakvikings give playoff heartbreakvikings give playoff heartbreakvikings give playoff heartbreakvikings give playoff heartbreakvikings give playoff heartbreakvikings give playoff heartbreakvikings give playoff heartbreakvikings give playoff heartbreakvikings give playoff heartbreakvikings give playoff heartbreakvikings give playoff heartbreakvikings give playoff heartbreakvikings give playoff heartbreakvikings give playoff heartbreakvikings give playoff heartbreakvikings give playoff heartbreakvikings give playoff heartbreakvikings give playoff heartbreakvikings give playoff heartbreakvikings give playoff heartbreakvikings give playoff heartbreakvikings give playoff heartbreakvikings give playoff heartbreakvikings give playoff heartbreakvikings give playoff heartbreakvikings give playoff heartbreakvikings give playoff heartbreakvikings give playoff heartbreakvikings give playoff heartbreakvikings give playoff heartbreakvikings give playoff heartbreakvikings give playoff heartbreakvikings give playoff heartbreakvikings give playoff heartbreakvikings give playoff heartbreakvikings give playoff heartbreakvikings give playoff heartbreakvikings give playoff heartbreakvikings give playoff heartbreakvikings give playoff heartbreakvikings give playoff heartbreakvikings give playoff heartbreakvikings give playoff heartbreakvikings give playoff heartbreakvikings give playoff heartbreakvikings give playoff heartbreakvikings give playoff heartbreakvikings give playoff heartbreakvikings give playoff heartbreakvikings give playoff heartbreakvikings give playoff heartbreakvikings give playoff heartbreakvikings give playoff heartbreakvikings give playoff heartbreakvikings give playoff heartbreakvikings give playoff heartbreakvikings give playoff heartbreakvikings give playoff heartbreakvikings give playoff heartbreakvikings give playoff heartbreakvikings give playoff heartbreakvikings give playoff heartbreakvikings give playoff heartbreakvikings give playoff heartbreakvikings give playoff heartbreakvikings give playoff heartbreakvikings give playoff heartbreakvikings give playoff heartbreakvikings give playoff heartbreakvikings give playoff heartbreakvikings give playoff heartbreakvikings give playoff heartbreakvikings give playoff heartbreakvikings give playoff heartbreakvikings give playoff heartbreakvikings give playoff heartbreakvikings give playoff heartbreakvikings give playoff heartbreakvikings give playoff heartbreakvikings give playoff heartbreakvikings give playoff heartbreakvikings give playoff heartbreakvikings give playoff heartbreakvikings give playoff heartbreakvikings give playoff heartbreakvikings give playoff heartbreak'"
      ]
     },
     "execution_count": 34,
     "metadata": {},
     "output_type": "execute_result"
    }
   ],
   "source": [
    "(h + i + (f+g) + j)*100"
   ]
  },
  {
   "cell_type": "code",
   "execution_count": null,
   "id": "18fb9452-1451-4bf2-8497-c0981de1d09d",
   "metadata": {},
   "outputs": [],
   "source": []
  }
 ],
 "metadata": {
  "kernelspec": {
   "display_name": "Python 3 (ipykernel)",
   "language": "python",
   "name": "python3"
  },
  "language_info": {
   "codemirror_mode": {
    "name": "ipython",
    "version": 3
   },
   "file_extension": ".py",
   "mimetype": "text/x-python",
   "name": "python",
   "nbconvert_exporter": "python",
   "pygments_lexer": "ipython3",
   "version": "3.12.7"
  }
 },
 "nbformat": 4,
 "nbformat_minor": 5
}
