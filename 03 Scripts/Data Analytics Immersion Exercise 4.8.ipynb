{
 "cells": [
  {
   "cell_type": "markdown",
   "id": "f4b8a151-41a8-4094-ae72-c9c232e06ed1",
   "metadata": {},
   "source": [
    "Data Analytics Immersion Exercise 4.8\n",
    "\n",
    "Practicing aggregation\n",
    "\n",
    "Creating loyalty_flag\n",
    "\n",
    "Creating spending_flag\n",
    "\n",
    "Creating frequency flag"
   ]
  },
  {
   "cell_type": "code",
   "execution_count": 2,
   "id": "2861a5cf-9b1a-4df7-9ad5-d8ddd778ac5b",
   "metadata": {},
   "outputs": [],
   "source": [
    "#importing libraries\n",
    "import pandas as pd\n",
    "import numpy as np\n",
    "import os"
   ]
  },
  {
   "cell_type": "code",
   "execution_count": 3,
   "id": "3e342f68-2911-44fb-917f-a1f683fbc8c9",
   "metadata": {},
   "outputs": [],
   "source": [
    "#setting path\n",
    "path = r\"C:\\Users\\luiss\\OneDrive\\Career Foundry\\Instacart Basket Analysis\""
   ]
  },
  {
   "cell_type": "code",
   "execution_count": 4,
   "id": "5ae08a06-4f6d-4737-90fc-ff7033561521",
   "metadata": {},
   "outputs": [],
   "source": [
    "#importing data\n",
    "df_opm = pd.read_pickle(os.path.join(path,'02 Data','Prepared Data','ords_prods_merge.pkl'))"
   ]
  },
  {
   "cell_type": "code",
   "execution_count": 5,
   "id": "7e006653-8a5a-4830-bbe9-74be2ac85249",
   "metadata": {},
   "outputs": [
    {
     "data": {
      "text/plain": [
       "(32406041, 24)"
      ]
     },
     "execution_count": 5,
     "metadata": {},
     "output_type": "execute_result"
    }
   ],
   "source": [
    "df_opm.shape"
   ]
  },
  {
   "cell_type": "markdown",
   "id": "ec1aa61b-194f-40c9-9a0f-9c20175e9201",
   "metadata": {},
   "source": [
    "In this Exercise, you learned how to find the aggregated mean of the “order_number” column grouped by “department_id” for a subset of your dataframe. Now, repeat this process for the entire dataframe."
   ]
  },
  {
   "cell_type": "code",
   "execution_count": 6,
   "id": "3b5c33eb-e678-434b-b72c-de5cd9a4a31b",
   "metadata": {},
   "outputs": [
    {
     "data": {
      "text/plain": [
       "department_id\n",
       "1     15.457838\n",
       "2     17.277920\n",
       "3     17.170395\n",
       "4     17.811403\n",
       "5     15.213779\n",
       "6     16.439806\n",
       "7     17.225802\n",
       "8     15.340650\n",
       "9     15.895474\n",
       "10    20.197148\n",
       "11    16.171095\n",
       "12    15.887671\n",
       "13    16.583536\n",
       "14    16.771241\n",
       "15    16.165037\n",
       "16    17.665606\n",
       "17    15.694469\n",
       "18    19.310397\n",
       "19    17.177343\n",
       "20    16.473447\n",
       "21    22.902379\n",
       "Name: order_number, dtype: float64"
      ]
     },
     "execution_count": 6,
     "metadata": {},
     "output_type": "execute_result"
    }
   ],
   "source": [
    "#Finding mean of order number grouped by department id\n",
    "df_opm.groupby('department_id')['order_number'].mean()"
   ]
  },
  {
   "cell_type": "markdown",
   "id": "d72d46cd-b3fd-471d-a720-0411aedab851",
   "metadata": {},
   "source": [
    "Analyze the result. How do the results for the entire dataframe differ from those of the subset? Include your comments in a markdown cell below the executed code.\n",
    "\n",
    "My subset results were different than given in the reading, and I did double check using shape to make sure I had subsetted to the first million rows, I'm guessing the difference is due to organization.  That being said, it seems like I got a good sample size from the initial million since the largest percent difference is 7%, with a majority being under 3% difference.  Both the initial million and complete data set featured all departments."
   ]
  },
  {
   "cell_type": "markdown",
   "id": "29b667f6-b009-482a-9be0-7ca4c971ec2f",
   "metadata": {},
   "source": [
    "Follow the instructions in the Exercise for creating a loyalty flag for existing customers using the transform() and loc() functions."
   ]
  },
  {
   "cell_type": "code",
   "execution_count": 7,
   "id": "ebe86296-a145-4e5b-9954-5d28bf9750e5",
   "metadata": {},
   "outputs": [
    {
     "name": "stderr",
     "output_type": "stream",
     "text": [
      "C:\\Users\\luiss\\AppData\\Local\\Temp\\ipykernel_13448\\3142672560.py:4: FutureWarning: The provided callable <function max at 0x0000023FB9918860> is currently using SeriesGroupBy.max. In a future version of pandas, the provided callable will be used directly. To keep current behavior pass the string \"max\" instead.\n",
      "  df_opm['max_order'] = df_opm.groupby(['user_id'])['order_number'].transform(np.max)\n"
     ]
    }
   ],
   "source": [
    "#Following cells of code will be to differentiate customers into Loyal, Regular, and New depending on the amount of orders they've made\n",
    "#Creating max order column\n",
    "\n",
    "df_opm['max_order'] = df_opm.groupby(['user_id'])['order_number'].transform(np.max)"
   ]
  },
  {
   "cell_type": "code",
   "execution_count": 8,
   "id": "3e88d2c9-6711-4908-a1eb-5e264f642fd7",
   "metadata": {},
   "outputs": [
    {
     "data": {
      "text/html": [
       "<div>\n",
       "<style scoped>\n",
       "    .dataframe tbody tr th:only-of-type {\n",
       "        vertical-align: middle;\n",
       "    }\n",
       "\n",
       "    .dataframe tbody tr th {\n",
       "        vertical-align: top;\n",
       "    }\n",
       "\n",
       "    .dataframe thead th {\n",
       "        text-align: right;\n",
       "    }\n",
       "</style>\n",
       "<table border=\"1\" class=\"dataframe\">\n",
       "  <thead>\n",
       "    <tr style=\"text-align: right;\">\n",
       "      <th></th>\n",
       "      <th>order_id</th>\n",
       "      <th>user_id</th>\n",
       "      <th>order_number</th>\n",
       "      <th>orders_day_of_week</th>\n",
       "      <th>order_hour_of_day</th>\n",
       "      <th>days_since_prior_order</th>\n",
       "      <th>product_id</th>\n",
       "      <th>add_to_cart_order</th>\n",
       "      <th>reordered</th>\n",
       "      <th>_merge</th>\n",
       "      <th>...</th>\n",
       "      <th>prices</th>\n",
       "      <th>price_range_loc</th>\n",
       "      <th>busiest_day</th>\n",
       "      <th>busiest_period_of_day</th>\n",
       "      <th>max_order</th>\n",
       "      <th>loyalty_flag</th>\n",
       "      <th>average_price</th>\n",
       "      <th>spending_flag</th>\n",
       "      <th>median_days_since_prior_order</th>\n",
       "      <th>frequency_flag</th>\n",
       "    </tr>\n",
       "  </thead>\n",
       "  <tbody>\n",
       "    <tr>\n",
       "      <th>0</th>\n",
       "      <td>2539329</td>\n",
       "      <td>1</td>\n",
       "      <td>1</td>\n",
       "      <td>2</td>\n",
       "      <td>8</td>\n",
       "      <td>NaN</td>\n",
       "      <td>196</td>\n",
       "      <td>1</td>\n",
       "      <td>0</td>\n",
       "      <td>both</td>\n",
       "      <td>...</td>\n",
       "      <td>9.0</td>\n",
       "      <td>Mid-range product</td>\n",
       "      <td>Regularly busy</td>\n",
       "      <td>Average orders</td>\n",
       "      <td>10</td>\n",
       "      <td>New customer</td>\n",
       "      <td>6.367797</td>\n",
       "      <td>Low spender</td>\n",
       "      <td>20.5</td>\n",
       "      <td>Non-frequent customer</td>\n",
       "    </tr>\n",
       "    <tr>\n",
       "      <th>1</th>\n",
       "      <td>2539329</td>\n",
       "      <td>1</td>\n",
       "      <td>1</td>\n",
       "      <td>2</td>\n",
       "      <td>8</td>\n",
       "      <td>NaN</td>\n",
       "      <td>14084</td>\n",
       "      <td>2</td>\n",
       "      <td>0</td>\n",
       "      <td>both</td>\n",
       "      <td>...</td>\n",
       "      <td>12.5</td>\n",
       "      <td>Mid-range product</td>\n",
       "      <td>Regularly busy</td>\n",
       "      <td>Average orders</td>\n",
       "      <td>10</td>\n",
       "      <td>New customer</td>\n",
       "      <td>6.367797</td>\n",
       "      <td>Low spender</td>\n",
       "      <td>20.5</td>\n",
       "      <td>Non-frequent customer</td>\n",
       "    </tr>\n",
       "    <tr>\n",
       "      <th>2</th>\n",
       "      <td>2539329</td>\n",
       "      <td>1</td>\n",
       "      <td>1</td>\n",
       "      <td>2</td>\n",
       "      <td>8</td>\n",
       "      <td>NaN</td>\n",
       "      <td>12427</td>\n",
       "      <td>3</td>\n",
       "      <td>0</td>\n",
       "      <td>both</td>\n",
       "      <td>...</td>\n",
       "      <td>4.4</td>\n",
       "      <td>Low-range product</td>\n",
       "      <td>Regularly busy</td>\n",
       "      <td>Average orders</td>\n",
       "      <td>10</td>\n",
       "      <td>New customer</td>\n",
       "      <td>6.367797</td>\n",
       "      <td>Low spender</td>\n",
       "      <td>20.5</td>\n",
       "      <td>Non-frequent customer</td>\n",
       "    </tr>\n",
       "    <tr>\n",
       "      <th>3</th>\n",
       "      <td>2539329</td>\n",
       "      <td>1</td>\n",
       "      <td>1</td>\n",
       "      <td>2</td>\n",
       "      <td>8</td>\n",
       "      <td>NaN</td>\n",
       "      <td>26088</td>\n",
       "      <td>4</td>\n",
       "      <td>0</td>\n",
       "      <td>both</td>\n",
       "      <td>...</td>\n",
       "      <td>4.7</td>\n",
       "      <td>Low-range product</td>\n",
       "      <td>Regularly busy</td>\n",
       "      <td>Average orders</td>\n",
       "      <td>10</td>\n",
       "      <td>New customer</td>\n",
       "      <td>6.367797</td>\n",
       "      <td>Low spender</td>\n",
       "      <td>20.5</td>\n",
       "      <td>Non-frequent customer</td>\n",
       "    </tr>\n",
       "    <tr>\n",
       "      <th>4</th>\n",
       "      <td>2539329</td>\n",
       "      <td>1</td>\n",
       "      <td>1</td>\n",
       "      <td>2</td>\n",
       "      <td>8</td>\n",
       "      <td>NaN</td>\n",
       "      <td>26405</td>\n",
       "      <td>5</td>\n",
       "      <td>0</td>\n",
       "      <td>both</td>\n",
       "      <td>...</td>\n",
       "      <td>1.0</td>\n",
       "      <td>Low-range product</td>\n",
       "      <td>Regularly busy</td>\n",
       "      <td>Average orders</td>\n",
       "      <td>10</td>\n",
       "      <td>New customer</td>\n",
       "      <td>6.367797</td>\n",
       "      <td>Low spender</td>\n",
       "      <td>20.5</td>\n",
       "      <td>Non-frequent customer</td>\n",
       "    </tr>\n",
       "  </tbody>\n",
       "</table>\n",
       "<p>5 rows × 24 columns</p>\n",
       "</div>"
      ],
      "text/plain": [
       "   order_id  user_id  order_number  orders_day_of_week  order_hour_of_day  \\\n",
       "0   2539329        1             1                   2                  8   \n",
       "1   2539329        1             1                   2                  8   \n",
       "2   2539329        1             1                   2                  8   \n",
       "3   2539329        1             1                   2                  8   \n",
       "4   2539329        1             1                   2                  8   \n",
       "\n",
       "   days_since_prior_order  product_id  add_to_cart_order  reordered _merge  \\\n",
       "0                     NaN         196                  1          0   both   \n",
       "1                     NaN       14084                  2          0   both   \n",
       "2                     NaN       12427                  3          0   both   \n",
       "3                     NaN       26088                  4          0   both   \n",
       "4                     NaN       26405                  5          0   both   \n",
       "\n",
       "   ...  prices    price_range_loc     busiest_day  busiest_period_of_day  \\\n",
       "0  ...     9.0  Mid-range product  Regularly busy         Average orders   \n",
       "1  ...    12.5  Mid-range product  Regularly busy         Average orders   \n",
       "2  ...     4.4  Low-range product  Regularly busy         Average orders   \n",
       "3  ...     4.7  Low-range product  Regularly busy         Average orders   \n",
       "4  ...     1.0  Low-range product  Regularly busy         Average orders   \n",
       "\n",
       "   max_order  loyalty_flag average_price spending_flag  \\\n",
       "0         10  New customer      6.367797   Low spender   \n",
       "1         10  New customer      6.367797   Low spender   \n",
       "2         10  New customer      6.367797   Low spender   \n",
       "3         10  New customer      6.367797   Low spender   \n",
       "4         10  New customer      6.367797   Low spender   \n",
       "\n",
       "   median_days_since_prior_order         frequency_flag  \n",
       "0                           20.5  Non-frequent customer  \n",
       "1                           20.5  Non-frequent customer  \n",
       "2                           20.5  Non-frequent customer  \n",
       "3                           20.5  Non-frequent customer  \n",
       "4                           20.5  Non-frequent customer  \n",
       "\n",
       "[5 rows x 24 columns]"
      ]
     },
     "execution_count": 8,
     "metadata": {},
     "output_type": "execute_result"
    }
   ],
   "source": [
    "df_opm.head()"
   ]
  },
  {
   "cell_type": "code",
   "execution_count": 9,
   "id": "b5a68298-832e-40ae-96e8-1eadc3fc9042",
   "metadata": {},
   "outputs": [
    {
     "data": {
      "text/plain": [
       "user_id\n",
       "1         10.0\n",
       "2         14.0\n",
       "3         12.0\n",
       "4          5.0\n",
       "5          4.0\n",
       "          ... \n",
       "206205     3.0\n",
       "206206    67.0\n",
       "206207    16.0\n",
       "206208    49.0\n",
       "206209    13.0\n",
       "Name: max_order, Length: 206209, dtype: float64"
      ]
     },
     "execution_count": 9,
     "metadata": {},
     "output_type": "execute_result"
    }
   ],
   "source": [
    "df_opm.groupby('user_id')['max_order'].mean()"
   ]
  },
  {
   "cell_type": "code",
   "execution_count": 10,
   "id": "1f35f6eb-a8eb-4138-acc1-cedd6afed3b6",
   "metadata": {},
   "outputs": [],
   "source": [
    "#Assigning labels dependent on order numbers\n",
    "\n",
    "df_opm.loc[df_opm['max_order'] > 40, 'loyalty_flag'] = 'Loyal customer'"
   ]
  },
  {
   "cell_type": "code",
   "execution_count": 11,
   "id": "2e780172-18bd-40a0-b5f6-293192c5d45d",
   "metadata": {},
   "outputs": [],
   "source": [
    "df_opm.loc[(df_opm['max_order'] <=40) & (df_opm['max_order'] > 10), 'loyalty_flag'] = 'Regular customer'"
   ]
  },
  {
   "cell_type": "code",
   "execution_count": 12,
   "id": "c23d1eb1-83fb-450e-99c5-0619b26ece14",
   "metadata": {},
   "outputs": [],
   "source": [
    "df_opm.loc[df_opm['max_order'] <= 10, 'loyalty_flag'] = 'New customer'"
   ]
  },
  {
   "cell_type": "code",
   "execution_count": 13,
   "id": "07f2d7c0-b6dd-4539-aed0-d36516017b30",
   "metadata": {},
   "outputs": [
    {
     "data": {
      "text/plain": [
       "loyalty_flag\n",
       "Regular customer    15877395\n",
       "Loyal customer      10284396\n",
       "New customer         6244250\n",
       "Name: count, dtype: int64"
      ]
     },
     "execution_count": 13,
     "metadata": {},
     "output_type": "execute_result"
    }
   ],
   "source": [
    "df_opm['loyalty_flag'].value_counts(dropna = False)"
   ]
  },
  {
   "cell_type": "markdown",
   "id": "e418bdba-43a6-4123-9776-1c3c2f7a3412",
   "metadata": {},
   "source": [
    "The marketing team at Instacart wants to know whether there’s a difference between the spending habits of the three types of customers you identified. Use the loyalty flag you created and check the basic statistics of the product prices for each loyalty category (Loyal Customer, Regular Customer, and New Customer). What you’re trying to determine is whether the prices of products purchased by loyal customers differ from those purchased by regular or new customers."
   ]
  },
  {
   "cell_type": "code",
   "execution_count": 14,
   "id": "0da2534f-7dd4-40ed-b7ff-abb3d6e19cdb",
   "metadata": {},
   "outputs": [
    {
     "data": {
      "text/plain": [
       "loyalty_flag      department_id\n",
       "Loyal customer    1                7.663262\n",
       "                  2                6.743136\n",
       "                  3                7.883289\n",
       "                  4                7.950691\n",
       "                  5                8.159503\n",
       "                                     ...   \n",
       "Regular customer  17               7.375086\n",
       "                  18               7.671737\n",
       "                  19               4.279951\n",
       "                  20               7.771021\n",
       "                  21               8.722086\n",
       "Name: prices, Length: 63, dtype: float64"
      ]
     },
     "execution_count": 14,
     "metadata": {},
     "output_type": "execute_result"
    }
   ],
   "source": [
    "#Finding mean price spent by customer organized by loyalty and department\n",
    "\n",
    "df_opm.groupby(['loyalty_flag','department_id'])['prices'].mean()"
   ]
  },
  {
   "cell_type": "code",
   "execution_count": 15,
   "id": "fafe4284-d21e-49f4-91bb-298eb9b4d532",
   "metadata": {},
   "outputs": [],
   "source": [
    "#setting max rows to 63 to see entire previous table\n",
    "\n",
    "pd.options.display.max_rows = 63"
   ]
  },
  {
   "cell_type": "code",
   "execution_count": 16,
   "id": "fd2f76fe-9b94-4629-896b-33f11d92d9bb",
   "metadata": {},
   "outputs": [
    {
     "data": {
      "text/plain": [
       "loyalty_flag\n",
       "Loyal customer      10.386229\n",
       "New customer        13.294406\n",
       "Regular customer    12.495501\n",
       "Name: prices, dtype: float64"
      ]
     },
     "execution_count": 16,
     "metadata": {},
     "output_type": "execute_result"
    }
   ],
   "source": [
    "#Simplifying above\n",
    "df_opm.groupby('loyalty_flag')['prices'].mean()"
   ]
  },
  {
   "cell_type": "markdown",
   "id": "ff939f68-72b3-49a0-854b-3ef8a812aa01",
   "metadata": {},
   "source": [
    "Initially I thought to organize by department as well since different departments will have different costs but then I realized I'd have to look at total amounts spent as well and that I might've been over-answering a question I'll be looking more into later anyways.  So, per order, regular customers spend the most with loyal customers spending the least.  If loyal customers are like my wife and I, they get use emails/apps/mail to learn about when stuff is on sale."
   ]
  },
  {
   "cell_type": "markdown",
   "id": "3f8a5649-1f88-48e6-982f-d7713c8fe338",
   "metadata": {},
   "source": [
    "The team now wants to target different types of spenders in their marketing campaigns. This can be achieved by looking at the prices of the items people are buying. Create a spending flag for each user based on the average price across all their orders using the following criteria:\n",
    "If the mean of the prices of products purchased by a user is lower than 10, then flag them as a “Low spender.”\n",
    "If the mean of the prices of products purchased by a user is higher than or equal to 10, then flag them as a “High spender.”"
   ]
  },
  {
   "cell_type": "code",
   "execution_count": 17,
   "id": "aa1fa4db-5bfd-45e5-b4e0-f8674eb13112",
   "metadata": {},
   "outputs": [
    {
     "name": "stderr",
     "output_type": "stream",
     "text": [
      "C:\\Users\\luiss\\AppData\\Local\\Temp\\ipykernel_13448\\3707097205.py:3: FutureWarning: The provided callable <function mean at 0x0000023FB9919260> is currently using SeriesGroupBy.mean. In a future version of pandas, the provided callable will be used directly. To keep current behavior pass the string \"mean\" instead.\n",
      "  df_opm['average_price'] = df_opm.groupby(['user_id'])['prices'].transform(np.mean)\n"
     ]
    }
   ],
   "source": [
    "#Creating new column for average price\n",
    "\n",
    "df_opm['average_price'] = df_opm.groupby(['user_id'])['prices'].transform(np.mean)"
   ]
  },
  {
   "cell_type": "code",
   "execution_count": 18,
   "id": "df3c1c3b-33e8-4b09-893e-5b840ae6f9a0",
   "metadata": {},
   "outputs": [
    {
     "data": {
      "text/html": [
       "<div>\n",
       "<style scoped>\n",
       "    .dataframe tbody tr th:only-of-type {\n",
       "        vertical-align: middle;\n",
       "    }\n",
       "\n",
       "    .dataframe tbody tr th {\n",
       "        vertical-align: top;\n",
       "    }\n",
       "\n",
       "    .dataframe thead th {\n",
       "        text-align: right;\n",
       "    }\n",
       "</style>\n",
       "<table border=\"1\" class=\"dataframe\">\n",
       "  <thead>\n",
       "    <tr style=\"text-align: right;\">\n",
       "      <th></th>\n",
       "      <th>order_id</th>\n",
       "      <th>user_id</th>\n",
       "      <th>order_number</th>\n",
       "      <th>orders_day_of_week</th>\n",
       "      <th>order_hour_of_day</th>\n",
       "      <th>days_since_prior_order</th>\n",
       "      <th>product_id</th>\n",
       "      <th>add_to_cart_order</th>\n",
       "      <th>reordered</th>\n",
       "      <th>_merge</th>\n",
       "      <th>...</th>\n",
       "      <th>prices</th>\n",
       "      <th>price_range_loc</th>\n",
       "      <th>busiest_day</th>\n",
       "      <th>busiest_period_of_day</th>\n",
       "      <th>max_order</th>\n",
       "      <th>loyalty_flag</th>\n",
       "      <th>average_price</th>\n",
       "      <th>spending_flag</th>\n",
       "      <th>median_days_since_prior_order</th>\n",
       "      <th>frequency_flag</th>\n",
       "    </tr>\n",
       "  </thead>\n",
       "  <tbody>\n",
       "    <tr>\n",
       "      <th>0</th>\n",
       "      <td>2539329</td>\n",
       "      <td>1</td>\n",
       "      <td>1</td>\n",
       "      <td>2</td>\n",
       "      <td>8</td>\n",
       "      <td>NaN</td>\n",
       "      <td>196</td>\n",
       "      <td>1</td>\n",
       "      <td>0</td>\n",
       "      <td>both</td>\n",
       "      <td>...</td>\n",
       "      <td>9.0</td>\n",
       "      <td>Mid-range product</td>\n",
       "      <td>Regularly busy</td>\n",
       "      <td>Average orders</td>\n",
       "      <td>10</td>\n",
       "      <td>New customer</td>\n",
       "      <td>6.367797</td>\n",
       "      <td>Low spender</td>\n",
       "      <td>20.5</td>\n",
       "      <td>Non-frequent customer</td>\n",
       "    </tr>\n",
       "    <tr>\n",
       "      <th>1</th>\n",
       "      <td>2539329</td>\n",
       "      <td>1</td>\n",
       "      <td>1</td>\n",
       "      <td>2</td>\n",
       "      <td>8</td>\n",
       "      <td>NaN</td>\n",
       "      <td>14084</td>\n",
       "      <td>2</td>\n",
       "      <td>0</td>\n",
       "      <td>both</td>\n",
       "      <td>...</td>\n",
       "      <td>12.5</td>\n",
       "      <td>Mid-range product</td>\n",
       "      <td>Regularly busy</td>\n",
       "      <td>Average orders</td>\n",
       "      <td>10</td>\n",
       "      <td>New customer</td>\n",
       "      <td>6.367797</td>\n",
       "      <td>Low spender</td>\n",
       "      <td>20.5</td>\n",
       "      <td>Non-frequent customer</td>\n",
       "    </tr>\n",
       "    <tr>\n",
       "      <th>2</th>\n",
       "      <td>2539329</td>\n",
       "      <td>1</td>\n",
       "      <td>1</td>\n",
       "      <td>2</td>\n",
       "      <td>8</td>\n",
       "      <td>NaN</td>\n",
       "      <td>12427</td>\n",
       "      <td>3</td>\n",
       "      <td>0</td>\n",
       "      <td>both</td>\n",
       "      <td>...</td>\n",
       "      <td>4.4</td>\n",
       "      <td>Low-range product</td>\n",
       "      <td>Regularly busy</td>\n",
       "      <td>Average orders</td>\n",
       "      <td>10</td>\n",
       "      <td>New customer</td>\n",
       "      <td>6.367797</td>\n",
       "      <td>Low spender</td>\n",
       "      <td>20.5</td>\n",
       "      <td>Non-frequent customer</td>\n",
       "    </tr>\n",
       "    <tr>\n",
       "      <th>3</th>\n",
       "      <td>2539329</td>\n",
       "      <td>1</td>\n",
       "      <td>1</td>\n",
       "      <td>2</td>\n",
       "      <td>8</td>\n",
       "      <td>NaN</td>\n",
       "      <td>26088</td>\n",
       "      <td>4</td>\n",
       "      <td>0</td>\n",
       "      <td>both</td>\n",
       "      <td>...</td>\n",
       "      <td>4.7</td>\n",
       "      <td>Low-range product</td>\n",
       "      <td>Regularly busy</td>\n",
       "      <td>Average orders</td>\n",
       "      <td>10</td>\n",
       "      <td>New customer</td>\n",
       "      <td>6.367797</td>\n",
       "      <td>Low spender</td>\n",
       "      <td>20.5</td>\n",
       "      <td>Non-frequent customer</td>\n",
       "    </tr>\n",
       "    <tr>\n",
       "      <th>4</th>\n",
       "      <td>2539329</td>\n",
       "      <td>1</td>\n",
       "      <td>1</td>\n",
       "      <td>2</td>\n",
       "      <td>8</td>\n",
       "      <td>NaN</td>\n",
       "      <td>26405</td>\n",
       "      <td>5</td>\n",
       "      <td>0</td>\n",
       "      <td>both</td>\n",
       "      <td>...</td>\n",
       "      <td>1.0</td>\n",
       "      <td>Low-range product</td>\n",
       "      <td>Regularly busy</td>\n",
       "      <td>Average orders</td>\n",
       "      <td>10</td>\n",
       "      <td>New customer</td>\n",
       "      <td>6.367797</td>\n",
       "      <td>Low spender</td>\n",
       "      <td>20.5</td>\n",
       "      <td>Non-frequent customer</td>\n",
       "    </tr>\n",
       "  </tbody>\n",
       "</table>\n",
       "<p>5 rows × 24 columns</p>\n",
       "</div>"
      ],
      "text/plain": [
       "   order_id  user_id  order_number  orders_day_of_week  order_hour_of_day  \\\n",
       "0   2539329        1             1                   2                  8   \n",
       "1   2539329        1             1                   2                  8   \n",
       "2   2539329        1             1                   2                  8   \n",
       "3   2539329        1             1                   2                  8   \n",
       "4   2539329        1             1                   2                  8   \n",
       "\n",
       "   days_since_prior_order  product_id  add_to_cart_order  reordered _merge  \\\n",
       "0                     NaN         196                  1          0   both   \n",
       "1                     NaN       14084                  2          0   both   \n",
       "2                     NaN       12427                  3          0   both   \n",
       "3                     NaN       26088                  4          0   both   \n",
       "4                     NaN       26405                  5          0   both   \n",
       "\n",
       "   ...  prices    price_range_loc     busiest_day  busiest_period_of_day  \\\n",
       "0  ...     9.0  Mid-range product  Regularly busy         Average orders   \n",
       "1  ...    12.5  Mid-range product  Regularly busy         Average orders   \n",
       "2  ...     4.4  Low-range product  Regularly busy         Average orders   \n",
       "3  ...     4.7  Low-range product  Regularly busy         Average orders   \n",
       "4  ...     1.0  Low-range product  Regularly busy         Average orders   \n",
       "\n",
       "   max_order  loyalty_flag average_price spending_flag  \\\n",
       "0         10  New customer      6.367797   Low spender   \n",
       "1         10  New customer      6.367797   Low spender   \n",
       "2         10  New customer      6.367797   Low spender   \n",
       "3         10  New customer      6.367797   Low spender   \n",
       "4         10  New customer      6.367797   Low spender   \n",
       "\n",
       "   median_days_since_prior_order         frequency_flag  \n",
       "0                           20.5  Non-frequent customer  \n",
       "1                           20.5  Non-frequent customer  \n",
       "2                           20.5  Non-frequent customer  \n",
       "3                           20.5  Non-frequent customer  \n",
       "4                           20.5  Non-frequent customer  \n",
       "\n",
       "[5 rows x 24 columns]"
      ]
     },
     "execution_count": 18,
     "metadata": {},
     "output_type": "execute_result"
    }
   ],
   "source": [
    "df_opm.head()"
   ]
  },
  {
   "cell_type": "code",
   "execution_count": 19,
   "id": "6e6033c8-a5bb-4625-98b8-1a3399048588",
   "metadata": {},
   "outputs": [],
   "source": [
    "#Will categorize user_ids based on average product price in low spender and high spender\n",
    "\n",
    "df_opm.loc[df_opm['average_price'] < 10, 'spending_flag'] = 'Low spender'"
   ]
  },
  {
   "cell_type": "code",
   "execution_count": 20,
   "id": "8fb280d0-3516-4a9f-910d-d5cb9cf4a5cd",
   "metadata": {},
   "outputs": [],
   "source": [
    "df_opm.loc[df_opm['average_price'] >= 10, 'spending_flag'] = 'High spender'"
   ]
  },
  {
   "cell_type": "code",
   "execution_count": 21,
   "id": "5a8e7f0f-0375-4470-b42f-87d11ffe27b6",
   "metadata": {},
   "outputs": [
    {
     "data": {
      "text/plain": [
       "spending_flag\n",
       "Low spender     31771789\n",
       "High spender      634252\n",
       "Name: count, dtype: int64"
      ]
     },
     "execution_count": 21,
     "metadata": {},
     "output_type": "execute_result"
    }
   ],
   "source": [
    "df_opm['spending_flag'].value_counts(dropna = False)"
   ]
  },
  {
   "cell_type": "markdown",
   "id": "6e2b44c4-9ad6-417e-9b45-fdd3009fb79d",
   "metadata": {},
   "source": [
    "In order to send relevant notifications to users within the app (for instance, asking users if they want to buy the same item again), the Instacart team wants you to determine frequent versus non-frequent customers. Create an order frequency flag that marks the regularity of a user’s ordering behavior according to the median in the “days_since_prior_order” column. The criteria for the flag should be as follows:\n",
    "If the median of “days_since_prior_order” is higher than 20, then the customer should be labeled a “Non-frequent customer.”\n",
    "If the median is higher than 10 and lower than or equal to 20, then the customer should be labeled a “Regular customer.”\n",
    "If the median is lower than or equal to 10, then the customer should be labeled a “Frequent customer.”"
   ]
  },
  {
   "cell_type": "code",
   "execution_count": 22,
   "id": "300b24b0-7342-419b-8647-b4318e7cbf7c",
   "metadata": {},
   "outputs": [
    {
     "name": "stderr",
     "output_type": "stream",
     "text": [
      "C:\\Users\\luiss\\AppData\\Local\\Temp\\ipykernel_13448\\1673869508.py:3: FutureWarning: The provided callable <function median at 0x0000023FB9A43EC0> is currently using SeriesGroupBy.median. In a future version of pandas, the provided callable will be used directly. To keep current behavior pass the string \"median\" instead.\n",
      "  df_opm['median_days_since_prior_order'] = df_opm.groupby('user_id')['days_since_prior_order'].transform(np.median)\n"
     ]
    }
   ],
   "source": [
    "#Creating new column based on median of days since prior order\n",
    "\n",
    "df_opm['median_days_since_prior_order'] = df_opm.groupby('user_id')['days_since_prior_order'].transform(np.median)"
   ]
  },
  {
   "cell_type": "code",
   "execution_count": 23,
   "id": "87900b52-791a-4a26-a9a0-dc05bc8a18d1",
   "metadata": {},
   "outputs": [
    {
     "data": {
      "text/html": [
       "<div>\n",
       "<style scoped>\n",
       "    .dataframe tbody tr th:only-of-type {\n",
       "        vertical-align: middle;\n",
       "    }\n",
       "\n",
       "    .dataframe tbody tr th {\n",
       "        vertical-align: top;\n",
       "    }\n",
       "\n",
       "    .dataframe thead th {\n",
       "        text-align: right;\n",
       "    }\n",
       "</style>\n",
       "<table border=\"1\" class=\"dataframe\">\n",
       "  <thead>\n",
       "    <tr style=\"text-align: right;\">\n",
       "      <th></th>\n",
       "      <th>order_id</th>\n",
       "      <th>user_id</th>\n",
       "      <th>order_number</th>\n",
       "      <th>orders_day_of_week</th>\n",
       "      <th>order_hour_of_day</th>\n",
       "      <th>days_since_prior_order</th>\n",
       "      <th>product_id</th>\n",
       "      <th>add_to_cart_order</th>\n",
       "      <th>reordered</th>\n",
       "      <th>_merge</th>\n",
       "      <th>...</th>\n",
       "      <th>prices</th>\n",
       "      <th>price_range_loc</th>\n",
       "      <th>busiest_day</th>\n",
       "      <th>busiest_period_of_day</th>\n",
       "      <th>max_order</th>\n",
       "      <th>loyalty_flag</th>\n",
       "      <th>average_price</th>\n",
       "      <th>spending_flag</th>\n",
       "      <th>median_days_since_prior_order</th>\n",
       "      <th>frequency_flag</th>\n",
       "    </tr>\n",
       "  </thead>\n",
       "  <tbody>\n",
       "    <tr>\n",
       "      <th>0</th>\n",
       "      <td>2539329</td>\n",
       "      <td>1</td>\n",
       "      <td>1</td>\n",
       "      <td>2</td>\n",
       "      <td>8</td>\n",
       "      <td>NaN</td>\n",
       "      <td>196</td>\n",
       "      <td>1</td>\n",
       "      <td>0</td>\n",
       "      <td>both</td>\n",
       "      <td>...</td>\n",
       "      <td>9.0</td>\n",
       "      <td>Mid-range product</td>\n",
       "      <td>Regularly busy</td>\n",
       "      <td>Average orders</td>\n",
       "      <td>10</td>\n",
       "      <td>New customer</td>\n",
       "      <td>6.367797</td>\n",
       "      <td>Low spender</td>\n",
       "      <td>20.5</td>\n",
       "      <td>Non-frequent customer</td>\n",
       "    </tr>\n",
       "    <tr>\n",
       "      <th>1</th>\n",
       "      <td>2539329</td>\n",
       "      <td>1</td>\n",
       "      <td>1</td>\n",
       "      <td>2</td>\n",
       "      <td>8</td>\n",
       "      <td>NaN</td>\n",
       "      <td>14084</td>\n",
       "      <td>2</td>\n",
       "      <td>0</td>\n",
       "      <td>both</td>\n",
       "      <td>...</td>\n",
       "      <td>12.5</td>\n",
       "      <td>Mid-range product</td>\n",
       "      <td>Regularly busy</td>\n",
       "      <td>Average orders</td>\n",
       "      <td>10</td>\n",
       "      <td>New customer</td>\n",
       "      <td>6.367797</td>\n",
       "      <td>Low spender</td>\n",
       "      <td>20.5</td>\n",
       "      <td>Non-frequent customer</td>\n",
       "    </tr>\n",
       "    <tr>\n",
       "      <th>2</th>\n",
       "      <td>2539329</td>\n",
       "      <td>1</td>\n",
       "      <td>1</td>\n",
       "      <td>2</td>\n",
       "      <td>8</td>\n",
       "      <td>NaN</td>\n",
       "      <td>12427</td>\n",
       "      <td>3</td>\n",
       "      <td>0</td>\n",
       "      <td>both</td>\n",
       "      <td>...</td>\n",
       "      <td>4.4</td>\n",
       "      <td>Low-range product</td>\n",
       "      <td>Regularly busy</td>\n",
       "      <td>Average orders</td>\n",
       "      <td>10</td>\n",
       "      <td>New customer</td>\n",
       "      <td>6.367797</td>\n",
       "      <td>Low spender</td>\n",
       "      <td>20.5</td>\n",
       "      <td>Non-frequent customer</td>\n",
       "    </tr>\n",
       "    <tr>\n",
       "      <th>3</th>\n",
       "      <td>2539329</td>\n",
       "      <td>1</td>\n",
       "      <td>1</td>\n",
       "      <td>2</td>\n",
       "      <td>8</td>\n",
       "      <td>NaN</td>\n",
       "      <td>26088</td>\n",
       "      <td>4</td>\n",
       "      <td>0</td>\n",
       "      <td>both</td>\n",
       "      <td>...</td>\n",
       "      <td>4.7</td>\n",
       "      <td>Low-range product</td>\n",
       "      <td>Regularly busy</td>\n",
       "      <td>Average orders</td>\n",
       "      <td>10</td>\n",
       "      <td>New customer</td>\n",
       "      <td>6.367797</td>\n",
       "      <td>Low spender</td>\n",
       "      <td>20.5</td>\n",
       "      <td>Non-frequent customer</td>\n",
       "    </tr>\n",
       "    <tr>\n",
       "      <th>4</th>\n",
       "      <td>2539329</td>\n",
       "      <td>1</td>\n",
       "      <td>1</td>\n",
       "      <td>2</td>\n",
       "      <td>8</td>\n",
       "      <td>NaN</td>\n",
       "      <td>26405</td>\n",
       "      <td>5</td>\n",
       "      <td>0</td>\n",
       "      <td>both</td>\n",
       "      <td>...</td>\n",
       "      <td>1.0</td>\n",
       "      <td>Low-range product</td>\n",
       "      <td>Regularly busy</td>\n",
       "      <td>Average orders</td>\n",
       "      <td>10</td>\n",
       "      <td>New customer</td>\n",
       "      <td>6.367797</td>\n",
       "      <td>Low spender</td>\n",
       "      <td>20.5</td>\n",
       "      <td>Non-frequent customer</td>\n",
       "    </tr>\n",
       "  </tbody>\n",
       "</table>\n",
       "<p>5 rows × 24 columns</p>\n",
       "</div>"
      ],
      "text/plain": [
       "   order_id  user_id  order_number  orders_day_of_week  order_hour_of_day  \\\n",
       "0   2539329        1             1                   2                  8   \n",
       "1   2539329        1             1                   2                  8   \n",
       "2   2539329        1             1                   2                  8   \n",
       "3   2539329        1             1                   2                  8   \n",
       "4   2539329        1             1                   2                  8   \n",
       "\n",
       "   days_since_prior_order  product_id  add_to_cart_order  reordered _merge  \\\n",
       "0                     NaN         196                  1          0   both   \n",
       "1                     NaN       14084                  2          0   both   \n",
       "2                     NaN       12427                  3          0   both   \n",
       "3                     NaN       26088                  4          0   both   \n",
       "4                     NaN       26405                  5          0   both   \n",
       "\n",
       "   ...  prices    price_range_loc     busiest_day  busiest_period_of_day  \\\n",
       "0  ...     9.0  Mid-range product  Regularly busy         Average orders   \n",
       "1  ...    12.5  Mid-range product  Regularly busy         Average orders   \n",
       "2  ...     4.4  Low-range product  Regularly busy         Average orders   \n",
       "3  ...     4.7  Low-range product  Regularly busy         Average orders   \n",
       "4  ...     1.0  Low-range product  Regularly busy         Average orders   \n",
       "\n",
       "   max_order  loyalty_flag average_price spending_flag  \\\n",
       "0         10  New customer      6.367797   Low spender   \n",
       "1         10  New customer      6.367797   Low spender   \n",
       "2         10  New customer      6.367797   Low spender   \n",
       "3         10  New customer      6.367797   Low spender   \n",
       "4         10  New customer      6.367797   Low spender   \n",
       "\n",
       "   median_days_since_prior_order         frequency_flag  \n",
       "0                           20.5  Non-frequent customer  \n",
       "1                           20.5  Non-frequent customer  \n",
       "2                           20.5  Non-frequent customer  \n",
       "3                           20.5  Non-frequent customer  \n",
       "4                           20.5  Non-frequent customer  \n",
       "\n",
       "[5 rows x 24 columns]"
      ]
     },
     "execution_count": 23,
     "metadata": {},
     "output_type": "execute_result"
    }
   ],
   "source": [
    "df_opm.head()"
   ]
  },
  {
   "cell_type": "code",
   "execution_count": 24,
   "id": "e545f35e-b070-4b98-a8f0-c5415337f3d5",
   "metadata": {},
   "outputs": [],
   "source": [
    "#Creating new flag based on non-frequent, regular, and frequent customers based on median days since prior order\n",
    "\n",
    "df_opm.loc[df_opm['median_days_since_prior_order'] > 20, 'frequency_flag'] = 'Non-frequent customer'"
   ]
  },
  {
   "cell_type": "code",
   "execution_count": 25,
   "id": "800efc48-0d7d-47f6-968c-0d2998c58177",
   "metadata": {},
   "outputs": [],
   "source": [
    "df_opm.loc[(df_opm['median_days_since_prior_order'] > 10) & (df_opm['median_days_since_prior_order'] <= 20), 'frequency_flag'] = 'Regular customer'"
   ]
  },
  {
   "cell_type": "code",
   "execution_count": 26,
   "id": "4bf5d146-79d2-47e4-8dea-15cd5dfc6a4d",
   "metadata": {},
   "outputs": [],
   "source": [
    "df_opm.loc[df_opm['median_days_since_prior_order'] <= 10, 'frequency_flag'] = 'Frequenct customer'"
   ]
  },
  {
   "cell_type": "code",
   "execution_count": 27,
   "id": "17cdb06c-a06e-4c26-9437-839466fe57d9",
   "metadata": {},
   "outputs": [
    {
     "data": {
      "text/plain": [
       "frequency_flag\n",
       "Frequenct customer       21560324\n",
       "Regular customer          7209005\n",
       "Non-frequent customer     3636707\n",
       "NaN                             5\n",
       "Name: count, dtype: int64"
      ]
     },
     "execution_count": 27,
     "metadata": {},
     "output_type": "execute_result"
    }
   ],
   "source": [
    "df_opm['frequency_flag'].value_counts(dropna = False)"
   ]
  },
  {
   "cell_type": "code",
   "execution_count": 28,
   "id": "811f4b15-c7e7-479f-a7e9-6ae520589685",
   "metadata": {},
   "outputs": [
    {
     "data": {
      "text/plain": [
       "days_since_prior_order\n",
       "7.0     3476307\n",
       "30.0    3067482\n",
       "6.0     2517580\n",
       "5.0     2124508\n",
       "4.0     2078699\n",
       "NaN     2076201\n",
       "8.0     1932026\n",
       "3.0     1876248\n",
       "2.0     1463774\n",
       "9.0     1217894\n",
       "14.0    1029690\n",
       "10.0     967224\n",
       "1.0      940508\n",
       "13.0     851152\n",
       "11.0     820791\n",
       "12.0     774192\n",
       "15.0     671488\n",
       "16.0     461352\n",
       "0.0      448335\n",
       "21.0     444160\n",
       "17.0     382129\n",
       "20.0     379743\n",
       "18.0     350615\n",
       "19.0     334899\n",
       "22.0     308862\n",
       "28.0     253163\n",
       "23.0     225841\n",
       "27.0     204071\n",
       "24.0     193429\n",
       "25.0     180423\n",
       "26.0     177778\n",
       "29.0     175477\n",
       "Name: count, dtype: int64"
      ]
     },
     "execution_count": 28,
     "metadata": {},
     "output_type": "execute_result"
    }
   ],
   "source": [
    "df_opm['days_since_prior_order'].value_counts(dropna = False)"
   ]
  },
  {
   "cell_type": "code",
   "execution_count": 32,
   "id": "5311a1c4-32e7-4cc6-bc51-07040fb5e8bd",
   "metadata": {},
   "outputs": [],
   "source": [
    "#Exporting data\n",
    "\n",
    "df_opm.to_pickle(os.path.join(path, '02 Data', 'Prepared Data', 'ords_prods_merge.pkl'))"
   ]
  },
  {
   "cell_type": "code",
   "execution_count": 31,
   "id": "f67230f2-b7ca-46cd-a9f7-b424a78e4a18",
   "metadata": {},
   "outputs": [],
   "source": [
    "#Executing further cleaning after visualizations\n",
    "\n",
    "df_opm.loc[df_opm['prices'] > 100, 'prices'] = np.nan"
   ]
  },
  {
   "cell_type": "code",
   "execution_count": null,
   "id": "f6336e37-a692-4f05-8c17-63955dcb5c6a",
   "metadata": {},
   "outputs": [],
   "source": []
  }
 ],
 "metadata": {
  "kernelspec": {
   "display_name": "Python 3 (ipykernel)",
   "language": "python",
   "name": "python3"
  },
  "language_info": {
   "codemirror_mode": {
    "name": "ipython",
    "version": 3
   },
   "file_extension": ".py",
   "mimetype": "text/x-python",
   "name": "python",
   "nbconvert_exporter": "python",
   "pygments_lexer": "ipython3",
   "version": "3.12.7"
  }
 },
 "nbformat": 4,
 "nbformat_minor": 5
}
